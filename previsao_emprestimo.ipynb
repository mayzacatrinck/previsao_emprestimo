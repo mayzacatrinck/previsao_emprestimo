{
 "cells": [
  {
   "cell_type": "markdown",
   "metadata": {},
   "source": [
    "<h1>Previsão de empréstimo</h1>"
   ]
  },
  {
   "cell_type": "markdown",
   "metadata": {},
   "source": [
    "Neste notebook contém um projeto desenvolvido durante o curso \"Machine Learning e Data Science com Python de A a Z\" da instituição Udemy.\n",
    "\n",
    "OBJETIVO DA ANÁLISE:\n",
    "- Utilizar algoritmos de Machine Learning para prever se o empréstimo será pago\n",
    "\n",
    "Abaixo você pode conferir as colunas encontradas no arquivo “credit_data.csv”:\n",
    "\n",
    "ATRIBUTOS PREVISORES:\n",
    "- renda anual\n",
    "- idade\n",
    "- valor solicitado de empréstimo\n",
    "\n",
    "ATRIBUTO CLASSE:\n",
    "- pago = valor '0' para empréstimo não pago e \n",
    "  valor '1' para pago"
   ]
  },
  {
   "cell_type": "code",
   "execution_count": 1,
   "metadata": {},
   "outputs": [],
   "source": [
    "import warnings\n",
    "warnings.filterwarnings('ignore')"
   ]
  },
  {
   "cell_type": "markdown",
   "metadata": {},
   "source": [
    "<h1>Importando a base de dados</h1>"
   ]
  },
  {
   "cell_type": "code",
   "execution_count": 2,
   "metadata": {},
   "outputs": [],
   "source": [
    "import pandas as pd\n",
    "import numpy as np"
   ]
  },
  {
   "cell_type": "code",
   "execution_count": 3,
   "metadata": {},
   "outputs": [],
   "source": [
    "# importando a base de dados\n",
    "base = pd.read_csv('credit_data.csv', names = ['cliente_id', 'renda_anual', 'idade', 'valor_emprestimo', \\\n",
    "                                               'pago'], header = 0)"
   ]
  },
  {
   "cell_type": "code",
   "execution_count": 4,
   "metadata": {},
   "outputs": [
    {
     "data": {
      "text/html": [
       "<div>\n",
       "<style scoped>\n",
       "    .dataframe tbody tr th:only-of-type {\n",
       "        vertical-align: middle;\n",
       "    }\n",
       "\n",
       "    .dataframe tbody tr th {\n",
       "        vertical-align: top;\n",
       "    }\n",
       "\n",
       "    .dataframe thead th {\n",
       "        text-align: right;\n",
       "    }\n",
       "</style>\n",
       "<table border=\"1\" class=\"dataframe\">\n",
       "  <thead>\n",
       "    <tr style=\"text-align: right;\">\n",
       "      <th></th>\n",
       "      <th>cliente_id</th>\n",
       "      <th>renda_anual</th>\n",
       "      <th>idade</th>\n",
       "      <th>valor_emprestimo</th>\n",
       "      <th>pago</th>\n",
       "    </tr>\n",
       "  </thead>\n",
       "  <tbody>\n",
       "    <tr>\n",
       "      <th>0</th>\n",
       "      <td>1</td>\n",
       "      <td>66155.925095</td>\n",
       "      <td>59.017015</td>\n",
       "      <td>8106.532131</td>\n",
       "      <td>0</td>\n",
       "    </tr>\n",
       "    <tr>\n",
       "      <th>1</th>\n",
       "      <td>2</td>\n",
       "      <td>34415.153966</td>\n",
       "      <td>48.117153</td>\n",
       "      <td>6564.745018</td>\n",
       "      <td>0</td>\n",
       "    </tr>\n",
       "    <tr>\n",
       "      <th>2</th>\n",
       "      <td>3</td>\n",
       "      <td>57317.170063</td>\n",
       "      <td>63.108049</td>\n",
       "      <td>8020.953296</td>\n",
       "      <td>0</td>\n",
       "    </tr>\n",
       "    <tr>\n",
       "      <th>3</th>\n",
       "      <td>4</td>\n",
       "      <td>42709.534201</td>\n",
       "      <td>45.751972</td>\n",
       "      <td>6103.642260</td>\n",
       "      <td>0</td>\n",
       "    </tr>\n",
       "    <tr>\n",
       "      <th>4</th>\n",
       "      <td>5</td>\n",
       "      <td>66952.688845</td>\n",
       "      <td>18.584336</td>\n",
       "      <td>8770.099235</td>\n",
       "      <td>1</td>\n",
       "    </tr>\n",
       "    <tr>\n",
       "      <th>5</th>\n",
       "      <td>6</td>\n",
       "      <td>24904.064140</td>\n",
       "      <td>57.471607</td>\n",
       "      <td>15.498598</td>\n",
       "      <td>0</td>\n",
       "    </tr>\n",
       "    <tr>\n",
       "      <th>6</th>\n",
       "      <td>7</td>\n",
       "      <td>48430.359613</td>\n",
       "      <td>26.809132</td>\n",
       "      <td>5722.581981</td>\n",
       "      <td>0</td>\n",
       "    </tr>\n",
       "    <tr>\n",
       "      <th>7</th>\n",
       "      <td>8</td>\n",
       "      <td>24500.141984</td>\n",
       "      <td>32.897548</td>\n",
       "      <td>2971.003310</td>\n",
       "      <td>1</td>\n",
       "    </tr>\n",
       "    <tr>\n",
       "      <th>8</th>\n",
       "      <td>9</td>\n",
       "      <td>40654.892537</td>\n",
       "      <td>55.496853</td>\n",
       "      <td>4755.825280</td>\n",
       "      <td>0</td>\n",
       "    </tr>\n",
       "    <tr>\n",
       "      <th>9</th>\n",
       "      <td>10</td>\n",
       "      <td>25075.872771</td>\n",
       "      <td>39.776378</td>\n",
       "      <td>1409.230371</td>\n",
       "      <td>0</td>\n",
       "    </tr>\n",
       "  </tbody>\n",
       "</table>\n",
       "</div>"
      ],
      "text/plain": [
       "   cliente_id   renda_anual      idade  valor_emprestimo  pago\n",
       "0           1  66155.925095  59.017015       8106.532131     0\n",
       "1           2  34415.153966  48.117153       6564.745018     0\n",
       "2           3  57317.170063  63.108049       8020.953296     0\n",
       "3           4  42709.534201  45.751972       6103.642260     0\n",
       "4           5  66952.688845  18.584336       8770.099235     1\n",
       "5           6  24904.064140  57.471607         15.498598     0\n",
       "6           7  48430.359613  26.809132       5722.581981     0\n",
       "7           8  24500.141984  32.897548       2971.003310     1\n",
       "8           9  40654.892537  55.496853       4755.825280     0\n",
       "9          10  25075.872771  39.776378       1409.230371     0"
      ]
     },
     "execution_count": 4,
     "metadata": {},
     "output_type": "execute_result"
    }
   ],
   "source": [
    "base.head(10)"
   ]
  },
  {
   "cell_type": "markdown",
   "metadata": {},
   "source": [
    "<h1>Explorando os dados</h1>\n"
   ]
  },
  {
   "cell_type": "code",
   "execution_count": 5,
   "metadata": {},
   "outputs": [
    {
     "data": {
      "text/plain": [
       "cliente_id            int64\n",
       "renda_anual         float64\n",
       "idade               float64\n",
       "valor_emprestimo    float64\n",
       "pago                  int64\n",
       "dtype: object"
      ]
     },
     "execution_count": 5,
     "metadata": {},
     "output_type": "execute_result"
    }
   ],
   "source": [
    "# verificando o tipo de dados de cada coluna\n",
    "base.dtypes"
   ]
  },
  {
   "cell_type": "code",
   "execution_count": 6,
   "metadata": {},
   "outputs": [
    {
     "name": "stdout",
     "output_type": "stream",
     "text": [
      "O dataset tem 2000 linhas e 5 colunas.\n"
     ]
    }
   ],
   "source": [
    "# quantidade de linhas e colunas do dataFrame\n",
    "base.shape\n",
    "print(\"O dataset tem {} linhas e {} colunas.\".format(base.shape[0], base.shape[1]))"
   ]
  },
  {
   "cell_type": "code",
   "execution_count": 7,
   "metadata": {},
   "outputs": [
    {
     "name": "stdout",
     "output_type": "stream",
     "text": [
      "<class 'pandas.core.frame.DataFrame'>\n",
      "RangeIndex: 2000 entries, 0 to 1999\n",
      "Data columns (total 5 columns):\n",
      " #   Column            Non-Null Count  Dtype  \n",
      "---  ------            --------------  -----  \n",
      " 0   cliente_id        2000 non-null   int64  \n",
      " 1   renda_anual       2000 non-null   float64\n",
      " 2   idade             1997 non-null   float64\n",
      " 3   valor_emprestimo  2000 non-null   float64\n",
      " 4   pago              2000 non-null   int64  \n",
      "dtypes: float64(3), int64(2)\n",
      "memory usage: 78.2 KB\n"
     ]
    }
   ],
   "source": [
    "# utilizando a função Info para obter um resumo sobre o dataset \n",
    "base.info()"
   ]
  },
  {
   "cell_type": "markdown",
   "metadata": {},
   "source": [
    "<h1>Tratamento de valores inconsistentes</h1> "
   ]
  },
  {
   "cell_type": "code",
   "execution_count": 8,
   "metadata": {},
   "outputs": [
    {
     "data": {
      "text/html": [
       "<div>\n",
       "<style scoped>\n",
       "    .dataframe tbody tr th:only-of-type {\n",
       "        vertical-align: middle;\n",
       "    }\n",
       "\n",
       "    .dataframe tbody tr th {\n",
       "        vertical-align: top;\n",
       "    }\n",
       "\n",
       "    .dataframe thead th {\n",
       "        text-align: right;\n",
       "    }\n",
       "</style>\n",
       "<table border=\"1\" class=\"dataframe\">\n",
       "  <thead>\n",
       "    <tr style=\"text-align: right;\">\n",
       "      <th></th>\n",
       "      <th>cliente_id</th>\n",
       "      <th>renda_anual</th>\n",
       "      <th>idade</th>\n",
       "      <th>valor_emprestimo</th>\n",
       "      <th>pago</th>\n",
       "    </tr>\n",
       "  </thead>\n",
       "  <tbody>\n",
       "    <tr>\n",
       "      <th>15</th>\n",
       "      <td>16</td>\n",
       "      <td>50501.726689</td>\n",
       "      <td>-28.218361</td>\n",
       "      <td>3977.287432</td>\n",
       "      <td>0</td>\n",
       "    </tr>\n",
       "    <tr>\n",
       "      <th>21</th>\n",
       "      <td>22</td>\n",
       "      <td>32197.620701</td>\n",
       "      <td>-52.423280</td>\n",
       "      <td>4244.057136</td>\n",
       "      <td>0</td>\n",
       "    </tr>\n",
       "    <tr>\n",
       "      <th>26</th>\n",
       "      <td>27</td>\n",
       "      <td>63287.038908</td>\n",
       "      <td>-36.496976</td>\n",
       "      <td>9595.286289</td>\n",
       "      <td>0</td>\n",
       "    </tr>\n",
       "  </tbody>\n",
       "</table>\n",
       "</div>"
      ],
      "text/plain": [
       "    cliente_id   renda_anual      idade  valor_emprestimo  pago\n",
       "15          16  50501.726689 -28.218361       3977.287432     0\n",
       "21          22  32197.620701 -52.423280       4244.057136     0\n",
       "26          27  63287.038908 -36.496976       9595.286289     0"
      ]
     },
     "execution_count": 8,
     "metadata": {},
     "output_type": "execute_result"
    }
   ],
   "source": [
    "# Pode-se observar que existe na base de dados valores de idade negativos\n",
    "# localizando os clientes com a idade negativa usando o método loc\n",
    "base.loc[base['idade'] < 0]"
   ]
  },
  {
   "cell_type": "code",
   "execution_count": 10,
   "metadata": {},
   "outputs": [
    {
     "data": {
      "text/plain": [
       "40.80755937840458"
      ]
     },
     "execution_count": 10,
     "metadata": {},
     "output_type": "execute_result"
    }
   ],
   "source": [
    "# Para que os valores não fiquem incorretos, vamos substituir esses valores negativos pelo valor da média de idades\n",
    "# calculando a média\n",
    "base['idade'].mean()  # esse valor está incorreto pois foi considerado a média dos três valores inválidos"
   ]
  },
  {
   "cell_type": "code",
   "execution_count": 11,
   "metadata": {},
   "outputs": [
    {
     "data": {
      "text/plain": [
       "40.92770044906149"
      ]
     },
     "execution_count": 11,
     "metadata": {},
     "output_type": "execute_result"
    }
   ],
   "source": [
    "# calculando a média das idades excluindo os três valores incorretos\n",
    "base['idade'][base.idade > 0].mean()"
   ]
  },
  {
   "cell_type": "code",
   "execution_count": 12,
   "metadata": {},
   "outputs": [],
   "source": [
    "# substituindo os valores de idade incorretos pelo valor da média\n",
    "base.loc[base.idade < 0, 'idade'] = 40.92"
   ]
  },
  {
   "cell_type": "code",
   "execution_count": 14,
   "metadata": {},
   "outputs": [
    {
     "data": {
      "text/html": [
       "<div>\n",
       "<style scoped>\n",
       "    .dataframe tbody tr th:only-of-type {\n",
       "        vertical-align: middle;\n",
       "    }\n",
       "\n",
       "    .dataframe tbody tr th {\n",
       "        vertical-align: top;\n",
       "    }\n",
       "\n",
       "    .dataframe thead th {\n",
       "        text-align: right;\n",
       "    }\n",
       "</style>\n",
       "<table border=\"1\" class=\"dataframe\">\n",
       "  <thead>\n",
       "    <tr style=\"text-align: right;\">\n",
       "      <th></th>\n",
       "      <th>cliente_id</th>\n",
       "      <th>renda_anual</th>\n",
       "      <th>idade</th>\n",
       "      <th>valor_emprestimo</th>\n",
       "      <th>pago</th>\n",
       "    </tr>\n",
       "  </thead>\n",
       "  <tbody>\n",
       "  </tbody>\n",
       "</table>\n",
       "</div>"
      ],
      "text/plain": [
       "Empty DataFrame\n",
       "Columns: [cliente_id, renda_anual, idade, valor_emprestimo, pago]\n",
       "Index: []"
      ]
     },
     "execution_count": 14,
     "metadata": {},
     "output_type": "execute_result"
    }
   ],
   "source": [
    "# verificando se os valores incorretos foram substituídos\n",
    "base.loc[base['idade'] < 0]  # podemos observar que nenhum valor foi retornado"
   ]
  },
  {
   "cell_type": "markdown",
   "metadata": {},
   "source": [
    "<h1>Tratamento de valores faltantes</h1>"
   ]
  },
  {
   "cell_type": "code",
   "execution_count": 15,
   "metadata": {},
   "outputs": [
    {
     "data": {
      "text/plain": [
       "0       False\n",
       "1       False\n",
       "2       False\n",
       "3       False\n",
       "4       False\n",
       "        ...  \n",
       "1995    False\n",
       "1996    False\n",
       "1997    False\n",
       "1998    False\n",
       "1999    False\n",
       "Name: idade, Length: 2000, dtype: bool"
      ]
     },
     "execution_count": 15,
     "metadata": {},
     "output_type": "execute_result"
    }
   ],
   "source": [
    "# verificando se no campo idade existe valores nulos\n",
    "pd.isnull(base['idade'])  # se retornar true significa que tem valores nulos"
   ]
  },
  {
   "cell_type": "code",
   "execution_count": 16,
   "metadata": {},
   "outputs": [
    {
     "data": {
      "text/html": [
       "<div>\n",
       "<style scoped>\n",
       "    .dataframe tbody tr th:only-of-type {\n",
       "        vertical-align: middle;\n",
       "    }\n",
       "\n",
       "    .dataframe tbody tr th {\n",
       "        vertical-align: top;\n",
       "    }\n",
       "\n",
       "    .dataframe thead th {\n",
       "        text-align: right;\n",
       "    }\n",
       "</style>\n",
       "<table border=\"1\" class=\"dataframe\">\n",
       "  <thead>\n",
       "    <tr style=\"text-align: right;\">\n",
       "      <th></th>\n",
       "      <th>cliente_id</th>\n",
       "      <th>renda_anual</th>\n",
       "      <th>idade</th>\n",
       "      <th>valor_emprestimo</th>\n",
       "      <th>pago</th>\n",
       "    </tr>\n",
       "  </thead>\n",
       "  <tbody>\n",
       "    <tr>\n",
       "      <th>28</th>\n",
       "      <td>29</td>\n",
       "      <td>59417.805406</td>\n",
       "      <td>NaN</td>\n",
       "      <td>2082.625938</td>\n",
       "      <td>0</td>\n",
       "    </tr>\n",
       "    <tr>\n",
       "      <th>30</th>\n",
       "      <td>31</td>\n",
       "      <td>48528.852796</td>\n",
       "      <td>NaN</td>\n",
       "      <td>6155.784670</td>\n",
       "      <td>0</td>\n",
       "    </tr>\n",
       "    <tr>\n",
       "      <th>31</th>\n",
       "      <td>32</td>\n",
       "      <td>23526.302555</td>\n",
       "      <td>NaN</td>\n",
       "      <td>2862.010139</td>\n",
       "      <td>0</td>\n",
       "    </tr>\n",
       "  </tbody>\n",
       "</table>\n",
       "</div>"
      ],
      "text/plain": [
       "    cliente_id   renda_anual  idade  valor_emprestimo  pago\n",
       "28          29  59417.805406    NaN       2082.625938     0\n",
       "30          31  48528.852796    NaN       6155.784670     0\n",
       "31          32  23526.302555    NaN       2862.010139     0"
      ]
     },
     "execution_count": 16,
     "metadata": {},
     "output_type": "execute_result"
    }
   ],
   "source": [
    "# com o comando anterior fica um pouco difícil vizualizar se existe valores nulos\n",
    "# usando a função loc fica mais fácil identificar esses valores\n",
    "# Podemos verificar que na base de dados existe três clientes que não estão com a idade preenchida.\n",
    "base.loc[pd.isnull(base['idade'])]"
   ]
  },
  {
   "cell_type": "code",
   "execution_count": 17,
   "metadata": {},
   "outputs": [
    {
     "data": {
      "text/plain": [
       "array([[6.61559251e+04, 5.90170151e+01, 8.10653213e+03],\n",
       "       [3.44151540e+04, 4.81171531e+01, 6.56474502e+03],\n",
       "       [5.73171701e+04, 6.31080495e+01, 8.02095330e+03],\n",
       "       ...,\n",
       "       [4.43114493e+04, 2.80171669e+01, 5.52278669e+03],\n",
       "       [4.37560566e+04, 6.39717958e+01, 1.62272260e+03],\n",
       "       [6.94365796e+04, 5.61526170e+01, 7.37883360e+03]])"
      ]
     },
     "execution_count": 17,
     "metadata": {},
     "output_type": "execute_result"
    }
   ],
   "source": [
    "# criando uma variável para armazenar os atributos previsores\n",
    "# para a criação dessa variável não será incluído a coluna 'clientid', pois é um identificador e não é útil usar para a criação\n",
    "# de algoritmos de machine leraning, pois não existe padrão\n",
    "previsores = base.iloc[:, 1:4].values\n",
    "previsores"
   ]
  },
  {
   "cell_type": "code",
   "execution_count": 18,
   "metadata": {},
   "outputs": [
    {
     "data": {
      "text/plain": [
       "array([0, 0, 0, ..., 1, 0, 0], dtype=int64)"
      ]
     },
     "execution_count": 18,
     "metadata": {},
     "output_type": "execute_result"
    }
   ],
   "source": [
    "# criando uma variável para armazenar o atributo classe\n",
    "classe = base.iloc[:, 4].values\n",
    "classe"
   ]
  },
  {
   "cell_type": "code",
   "execution_count": 19,
   "metadata": {},
   "outputs": [],
   "source": [
    "# tratando os valores nulos\n",
    "# substituindo os valores nulos pelo valor da média\n",
    "# a aplicação será feita pra todas as colunas de 'previsores' caso haja valores faltantes\n",
    "from sklearn.impute import SimpleImputer\n",
    "imputer = SimpleImputer(missing_values=np.nan, strategy='mean')\n",
    "\n",
    "# Substituindo os valores NaN pela média dos dados\n",
    "previsores = imputer.fit_transform(previsores)"
   ]
  },
  {
   "cell_type": "code",
   "execution_count": 20,
   "metadata": {},
   "outputs": [
    {
     "data": {
      "text/plain": [
       "array([[6.61559251e+04, 5.90170151e+01, 8.10653213e+03],\n",
       "       [3.44151540e+04, 4.81171531e+01, 6.56474502e+03],\n",
       "       [5.73171701e+04, 6.31080495e+01, 8.02095330e+03],\n",
       "       ...,\n",
       "       [4.43114493e+04, 2.80171669e+01, 5.52278669e+03],\n",
       "       [4.37560566e+04, 6.39717958e+01, 1.62272260e+03],\n",
       "       [6.94365796e+04, 5.61526170e+01, 7.37883360e+03]])"
      ]
     },
     "execution_count": 20,
     "metadata": {},
     "output_type": "execute_result"
    }
   ],
   "source": [
    "previsores"
   ]
  },
  {
   "cell_type": "markdown",
   "metadata": {},
   "source": [
    "<h1>Escalonamento dos atributos</h1>"
   ]
  },
  {
   "cell_type": "code",
   "execution_count": 21,
   "metadata": {},
   "outputs": [],
   "source": [
    "# Aplicar uma fórmula para colocar a renda e a idade na mesma escala\n",
    "# Utilizando a Padronização x= x - média(x) / desvioPadrão(x)\n",
    "from sklearn.preprocessing import StandardScaler\n",
    "scaler = StandardScaler()\n",
    "previsores = scaler.fit_transform(previsores)"
   ]
  },
  {
   "cell_type": "code",
   "execution_count": 22,
   "metadata": {},
   "outputs": [
    {
     "data": {
      "text/plain": [
       "array([[ 1.45393393,  1.36538093,  1.20281942],\n",
       "       [-0.76217555,  0.5426602 ,  0.69642695],\n",
       "       [ 0.83682073,  1.67417189,  1.17471147],\n",
       "       ...,\n",
       "       [-0.07122592, -0.97448519,  0.35420081],\n",
       "       [-0.11000289,  1.73936739, -0.92675625],\n",
       "       [ 1.682986  ,  1.14917639,  0.96381038]])"
      ]
     },
     "execution_count": 22,
     "metadata": {},
     "output_type": "execute_result"
    }
   ],
   "source": [
    "previsores"
   ]
  },
  {
   "cell_type": "markdown",
   "metadata": {},
   "source": [
    "<h1>Spliting</h1>"
   ]
  },
  {
   "cell_type": "code",
   "execution_count": 23,
   "metadata": {},
   "outputs": [],
   "source": [
    "# Dividindo as variáveis em treino e teste\n",
    "# 75% dados para treino e 25% dados para teste\n",
    "from sklearn.model_selection import train_test_split\n",
    "previsores_treinamento, previsores_teste, classe_treinamento, classe_teste = train_test_split(previsores, classe, \\\n",
    "                                                                                              test_size=0.25, random_state=0)"
   ]
  },
  {
   "cell_type": "code",
   "execution_count": 24,
   "metadata": {},
   "outputs": [
    {
     "name": "stdout",
     "output_type": "stream",
     "text": [
      "75.00% nos dados de treino\n",
      "25.00% nos dados de teste\n"
     ]
    }
   ],
   "source": [
    "# Imprimindo os resultados\n",
    "print(\"{0:0.2f}% nos dados de treino\".format((len(previsores_treinamento)/len(base.index)) * 100))\n",
    "print(\"{0:0.2f}% nos dados de teste\".format((len(previsores_teste)/len(base.index)) * 100))"
   ]
  },
  {
   "cell_type": "code",
   "execution_count": 25,
   "metadata": {},
   "outputs": [
    {
     "data": {
      "text/plain": [
       "1500"
      ]
     },
     "execution_count": 25,
     "metadata": {},
     "output_type": "execute_result"
    }
   ],
   "source": [
    "len(previsores_treinamento)"
   ]
  },
  {
   "cell_type": "code",
   "execution_count": 26,
   "metadata": {},
   "outputs": [
    {
     "data": {
      "text/plain": [
       "1500"
      ]
     },
     "execution_count": 26,
     "metadata": {},
     "output_type": "execute_result"
    }
   ],
   "source": [
    "len(classe_treinamento)"
   ]
  },
  {
   "cell_type": "code",
   "execution_count": 27,
   "metadata": {},
   "outputs": [
    {
     "data": {
      "text/plain": [
       "500"
      ]
     },
     "execution_count": 27,
     "metadata": {},
     "output_type": "execute_result"
    }
   ],
   "source": [
    "len(previsores_teste)"
   ]
  },
  {
   "cell_type": "code",
   "execution_count": 28,
   "metadata": {},
   "outputs": [
    {
     "data": {
      "text/plain": [
       "500"
      ]
     },
     "execution_count": 28,
     "metadata": {},
     "output_type": "execute_result"
    }
   ],
   "source": [
    "len(classe_teste)"
   ]
  },
  {
   "cell_type": "markdown",
   "metadata": {},
   "source": [
    "<h1>Naive Bayes</h1>\n",
    "\n",
    "O algoritmo “Naive Bayes” é um classificador probabilístico.\n",
    "Ele recebe o nome de “naive” (ingênuo) porque desconsidera a correlação entre as variáveis (features).\n",
    "\n",
    "Classificação de textos, filtragem de SPAM e análise de sentimento em redes sociais são algumas das muitas aplicações para esse algoritmo.\n",
    "O algoritmo é muito robusto para previsões em tempo real, pois precisa de poucos dados para realizar a classificação. Se existe a necessidade de correlacionar fatores, esse algoritmo tende a falhar nas predições."
   ]
  },
  {
   "cell_type": "markdown",
   "metadata": {},
   "source": [
    "### Construindo e treinando o modelo"
   ]
  },
  {
   "cell_type": "code",
   "execution_count": 29,
   "metadata": {},
   "outputs": [],
   "source": [
    "# Importando o algoritmo\n",
    "from sklearn.naive_bayes import GaussianNB"
   ]
  },
  {
   "cell_type": "code",
   "execution_count": 30,
   "metadata": {},
   "outputs": [],
   "source": [
    "# Criando o modelo preditivo\n",
    "classificador = GaussianNB()"
   ]
  },
  {
   "cell_type": "code",
   "execution_count": 31,
   "metadata": {},
   "outputs": [
    {
     "data": {
      "text/plain": [
       "GaussianNB(priors=None, var_smoothing=1e-09)"
      ]
     },
     "execution_count": 31,
     "metadata": {},
     "output_type": "execute_result"
    }
   ],
   "source": [
    "# Treinando o modelo\n",
    "classificador.fit(previsores_treinamento, classe_treinamento)"
   ]
  },
  {
   "cell_type": "code",
   "execution_count": 32,
   "metadata": {},
   "outputs": [],
   "source": [
    "# testando o modelo\n",
    "previsoes = classificador.predict(previsores_teste)"
   ]
  },
  {
   "cell_type": "markdown",
   "metadata": {},
   "source": [
    "### Verificando a exatidão no modelo"
   ]
  },
  {
   "cell_type": "code",
   "execution_count": 34,
   "metadata": {},
   "outputs": [
    {
     "data": {
      "text/plain": [
       "0.938"
      ]
     },
     "execution_count": 34,
     "metadata": {},
     "output_type": "execute_result"
    }
   ],
   "source": [
    "# precisão do modelo\n",
    "from sklearn.metrics import confusion_matrix, accuracy_score\n",
    "precisao = accuracy_score(classe_teste, previsoes)\n",
    "precisao"
   ]
  },
  {
   "cell_type": "code",
   "execution_count": 36,
   "metadata": {},
   "outputs": [
    {
     "data": {
      "text/plain": [
       "array([[428,   8],\n",
       "       [ 23,  41]], dtype=int64)"
      ]
     },
     "execution_count": 36,
     "metadata": {},
     "output_type": "execute_result"
    }
   ],
   "source": [
    "# matriz de confusão\n",
    "# diagonal principal (quantidade de acertos)\n",
    "matriz = confusion_matrix(classe_teste, previsoes)\n",
    "matriz"
   ]
  },
  {
   "cell_type": "markdown",
   "metadata": {},
   "source": [
    "<h1>Árvore de Decisão</h1>\n",
    "\n",
    "Uma árvore de decisão utiliza base de dados histórica e geralmente começa com um único nó, que se divide em possíveis resultados. Cada um desses resultados leva a nós adicionais, que se ramificam em outras possibilidades. Assim, cria-se uma forma de árvore. Esses algoritmos são considerados um dos melhores e mais utilizados métodos de aprendizagem supervisionada, pois nos dão modelos preditivos de alta precisão, estabilidade e facilidade de interpretação. Ao contrário dos modelos lineares, eles mapeiam muito bem relações não-lineares."
   ]
  },
  {
   "cell_type": "markdown",
   "metadata": {},
   "source": [
    "### Construindo e treinando o modelo"
   ]
  },
  {
   "cell_type": "code",
   "execution_count": 37,
   "metadata": {},
   "outputs": [],
   "source": [
    "# Importando o algoritmo\n",
    "from sklearn.tree import DecisionTreeClassifier"
   ]
  },
  {
   "cell_type": "code",
   "execution_count": 38,
   "metadata": {},
   "outputs": [],
   "source": [
    "# Criando o modelo preditivo\n",
    "classificador = DecisionTreeClassifier(criterion = 'entropy', random_state = 0)"
   ]
  },
  {
   "cell_type": "code",
   "execution_count": 39,
   "metadata": {},
   "outputs": [
    {
     "data": {
      "text/plain": [
       "DecisionTreeClassifier(ccp_alpha=0.0, class_weight=None, criterion='entropy',\n",
       "                       max_depth=None, max_features=None, max_leaf_nodes=None,\n",
       "                       min_impurity_decrease=0.0, min_impurity_split=None,\n",
       "                       min_samples_leaf=1, min_samples_split=2,\n",
       "                       min_weight_fraction_leaf=0.0, presort='deprecated',\n",
       "                       random_state=0, splitter='best')"
      ]
     },
     "execution_count": 39,
     "metadata": {},
     "output_type": "execute_result"
    }
   ],
   "source": [
    "# Treinando o modelo\n",
    "classificador.fit(previsores_treinamento, classe_treinamento)"
   ]
  },
  {
   "cell_type": "code",
   "execution_count": 40,
   "metadata": {},
   "outputs": [],
   "source": [
    "# testando o modelo\n",
    "previsoes = classificador.predict(previsores_teste)"
   ]
  },
  {
   "cell_type": "markdown",
   "metadata": {},
   "source": [
    "### Verificando a exatidão no modelo"
   ]
  },
  {
   "cell_type": "code",
   "execution_count": 42,
   "metadata": {},
   "outputs": [
    {
     "data": {
      "text/plain": [
       "0.982"
      ]
     },
     "execution_count": 42,
     "metadata": {},
     "output_type": "execute_result"
    }
   ],
   "source": [
    "# precisão do modelo\n",
    "precisao = accuracy_score(classe_teste, previsoes)\n",
    "precisao"
   ]
  },
  {
   "cell_type": "code",
   "execution_count": 43,
   "metadata": {},
   "outputs": [
    {
     "data": {
      "text/plain": [
       "array([[430,   6],\n",
       "       [  3,  61]], dtype=int64)"
      ]
     },
     "execution_count": 43,
     "metadata": {},
     "output_type": "execute_result"
    }
   ],
   "source": [
    "# matriz de confusão\n",
    "# diagonal principal (quantidade de acertos)\n",
    "matriz = confusion_matrix(classe_teste, previsoes)\n",
    "matriz"
   ]
  },
  {
   "cell_type": "markdown",
   "metadata": {},
   "source": [
    "<h1>Random Forest</h1>\n",
    "\n",
    "Esse algoritmo irá criar muitas árvores de decisão, de maneira aleatória, formando o que podemos enxergar como uma floresta, onde cada árvore será utilizada na escolha do resultado final. É um método de aprendizagem de máquina versátil e capaz de executar tarefas de regressão e de classificação. Ele também aplica métodos de redução dimensional, trata valores faltantes, valores anómalos (‘outliers’) e outras etapas essenciais da exploração de dados.\n",
    "É um tipo de método de aprendizado de ‘ensemble’, onde um grupo de modelos fracos são combinados para formar um modelo mais forte."
   ]
  },
  {
   "cell_type": "markdown",
   "metadata": {},
   "source": [
    "### Construindo e treinando o modelo"
   ]
  },
  {
   "cell_type": "code",
   "execution_count": 44,
   "metadata": {},
   "outputs": [],
   "source": [
    "# Importando o algoritmo\n",
    "from sklearn.ensemble import RandomForestClassifier"
   ]
  },
  {
   "cell_type": "code",
   "execution_count": 45,
   "metadata": {},
   "outputs": [],
   "source": [
    "# Criando o modelo preditivo\n",
    "classificador = RandomForestClassifier(n_estimators = 40, criterion = 'entropy', random_state = 0)"
   ]
  },
  {
   "cell_type": "code",
   "execution_count": 46,
   "metadata": {},
   "outputs": [
    {
     "data": {
      "text/plain": [
       "RandomForestClassifier(bootstrap=True, ccp_alpha=0.0, class_weight=None,\n",
       "                       criterion='entropy', max_depth=None, max_features='auto',\n",
       "                       max_leaf_nodes=None, max_samples=None,\n",
       "                       min_impurity_decrease=0.0, min_impurity_split=None,\n",
       "                       min_samples_leaf=1, min_samples_split=2,\n",
       "                       min_weight_fraction_leaf=0.0, n_estimators=40,\n",
       "                       n_jobs=None, oob_score=False, random_state=0, verbose=0,\n",
       "                       warm_start=False)"
      ]
     },
     "execution_count": 46,
     "metadata": {},
     "output_type": "execute_result"
    }
   ],
   "source": [
    "# Treinando o modelo\n",
    "classificador.fit(previsores_treinamento, classe_treinamento)"
   ]
  },
  {
   "cell_type": "code",
   "execution_count": 47,
   "metadata": {},
   "outputs": [],
   "source": [
    "# testando o modelo\n",
    "previsoes = classificador.predict(previsores_teste)"
   ]
  },
  {
   "cell_type": "markdown",
   "metadata": {},
   "source": [
    "### Verificando a exatidão no modelo"
   ]
  },
  {
   "cell_type": "code",
   "execution_count": 49,
   "metadata": {},
   "outputs": [
    {
     "data": {
      "text/plain": [
       "0.984"
      ]
     },
     "execution_count": 49,
     "metadata": {},
     "output_type": "execute_result"
    }
   ],
   "source": [
    "# precisão do modelo\n",
    "precisao = accuracy_score(classe_teste, previsoes)\n",
    "precisao"
   ]
  },
  {
   "cell_type": "code",
   "execution_count": 51,
   "metadata": {},
   "outputs": [
    {
     "data": {
      "text/plain": [
       "array([[433,   3],\n",
       "       [  5,  59]], dtype=int64)"
      ]
     },
     "execution_count": 51,
     "metadata": {},
     "output_type": "execute_result"
    }
   ],
   "source": [
    "# matriz de confusão\n",
    "# diagonal principal (quantidade de acertos)\n",
    "matriz = confusion_matrix(classe_teste, previsoes)\n",
    "matriz"
   ]
  },
  {
   "cell_type": "markdown",
   "metadata": {},
   "source": [
    "<h1>KNN</h1>\n",
    "\n",
    "O KNN (K-Nearest Neighbor) tem o objetivo de determinar a qual grupo uma determinada amostra vai pertencer com base nas amostras vizinhas. Os exemplos de treinamento são armazenados e a previsão é feita somente quando um novo registro precisa ser classificado. Diferente dos outros algoritmos, ele não constrói um modelo, apenas faz o cálculo da distância."
   ]
  },
  {
   "cell_type": "code",
   "execution_count": 52,
   "metadata": {},
   "outputs": [],
   "source": [
    "# Importando o algoritmo\n",
    "from sklearn.neighbors import KNeighborsClassifier"
   ]
  },
  {
   "cell_type": "code",
   "execution_count": 53,
   "metadata": {},
   "outputs": [],
   "source": [
    "classificador = KNeighborsClassifier(n_neighbors = 5, metric = 'minkowski', p = 2)"
   ]
  },
  {
   "cell_type": "code",
   "execution_count": 54,
   "metadata": {},
   "outputs": [
    {
     "data": {
      "text/plain": [
       "KNeighborsClassifier(algorithm='auto', leaf_size=30, metric='minkowski',\n",
       "                     metric_params=None, n_jobs=None, n_neighbors=5, p=2,\n",
       "                     weights='uniform')"
      ]
     },
     "execution_count": 54,
     "metadata": {},
     "output_type": "execute_result"
    }
   ],
   "source": [
    "classificador.fit(previsores_treinamento, classe_treinamento)"
   ]
  },
  {
   "cell_type": "code",
   "execution_count": 55,
   "metadata": {},
   "outputs": [],
   "source": [
    "previsoes = classificador.predict(previsores_teste)"
   ]
  },
  {
   "cell_type": "markdown",
   "metadata": {},
   "source": [
    "### Verificando a exatidão "
   ]
  },
  {
   "cell_type": "code",
   "execution_count": 57,
   "metadata": {},
   "outputs": [
    {
     "data": {
      "text/plain": [
       "0.986"
      ]
     },
     "execution_count": 57,
     "metadata": {},
     "output_type": "execute_result"
    }
   ],
   "source": [
    "# precisão\n",
    "precisao = accuracy_score(classe_teste, previsoes)\n",
    "precisao"
   ]
  },
  {
   "cell_type": "code",
   "execution_count": 59,
   "metadata": {},
   "outputs": [
    {
     "data": {
      "text/plain": [
       "array([[432,   4],\n",
       "       [  3,  61]], dtype=int64)"
      ]
     },
     "execution_count": 59,
     "metadata": {},
     "output_type": "execute_result"
    }
   ],
   "source": [
    "# matriz de confusão\n",
    "# diagonal principal (quantidade de acertos)\n",
    "matriz = confusion_matrix(classe_teste, previsoes)\n",
    "matriz"
   ]
  },
  {
   "cell_type": "markdown",
   "metadata": {},
   "source": [
    "<h1>Regressão Logística</h1>\n",
    "\n",
    "Esse algoritmo mede a relação entre a variável dependente categórica e uma ou mais variáveis independentes, estimando as probabilidades usando uma função logística. Analisa diferentes aspectos ou variáveis de um objeto para depois determinar uma classe na qual ele se encaixa melhor."
   ]
  },
  {
   "cell_type": "markdown",
   "metadata": {},
   "source": [
    "### Construindo e treinando o modelo"
   ]
  },
  {
   "cell_type": "code",
   "execution_count": 60,
   "metadata": {},
   "outputs": [],
   "source": [
    "# Importando o algoritmo\n",
    "from sklearn.linear_model import LogisticRegression"
   ]
  },
  {
   "cell_type": "code",
   "execution_count": 61,
   "metadata": {},
   "outputs": [],
   "source": [
    "# Criando o modelo preditivo\n",
    "classificador = LogisticRegression(random_state = 1, solver='lbfgs')"
   ]
  },
  {
   "cell_type": "code",
   "execution_count": 62,
   "metadata": {},
   "outputs": [
    {
     "data": {
      "text/plain": [
       "LogisticRegression(C=1.0, class_weight=None, dual=False, fit_intercept=True,\n",
       "                   intercept_scaling=1, l1_ratio=None, max_iter=100,\n",
       "                   multi_class='auto', n_jobs=None, penalty='l2',\n",
       "                   random_state=1, solver='lbfgs', tol=0.0001, verbose=0,\n",
       "                   warm_start=False)"
      ]
     },
     "execution_count": 62,
     "metadata": {},
     "output_type": "execute_result"
    }
   ],
   "source": [
    "# Treinando o modelo\n",
    "classificador.fit(previsores_treinamento, classe_treinamento)"
   ]
  },
  {
   "cell_type": "code",
   "execution_count": 63,
   "metadata": {},
   "outputs": [],
   "source": [
    "# testando o modelo\n",
    "previsoes = classificador.predict(previsores_teste)"
   ]
  },
  {
   "cell_type": "markdown",
   "metadata": {},
   "source": [
    "### Verificando a exatidão no modelo"
   ]
  },
  {
   "cell_type": "code",
   "execution_count": 64,
   "metadata": {},
   "outputs": [
    {
     "data": {
      "text/plain": [
       "0.946"
      ]
     },
     "execution_count": 64,
     "metadata": {},
     "output_type": "execute_result"
    }
   ],
   "source": [
    "# precisão do modelo\n",
    "precisao = accuracy_score(classe_teste, previsoes)\n",
    "precisao"
   ]
  },
  {
   "cell_type": "code",
   "execution_count": 65,
   "metadata": {},
   "outputs": [
    {
     "data": {
      "text/plain": [
       "array([[423,  13],\n",
       "       [ 14,  50]], dtype=int64)"
      ]
     },
     "execution_count": 65,
     "metadata": {},
     "output_type": "execute_result"
    }
   ],
   "source": [
    "# matriz de confusão\n",
    "# diagonal principal (quantidade de acertos)\n",
    "matriz = confusion_matrix(classe_teste, previsoes)\n",
    "matriz"
   ]
  },
  {
   "cell_type": "markdown",
   "metadata": {},
   "source": [
    "<h1>SVM - Máquinas de Vetores de Suporte</h1>\n",
    "\n",
    "Uma máquina de vetores de suporte (SVM) desenvolve o modelo tomando as entradas de treinamento, mapeando elas no espaço multidimensional e utilizando regressão para encontrar um hiperplano (um hiperplano é uma superfície em espaço de n dimensões que o separa em duas metades de espaço) que melhor separa duas classes de entradas. Uma vez que esse modelo tenha sido treinada, ele é capaz de avaliar novas entradas em relação ao hiperplano divisor e classificá-las em uma entre duas categorias."
   ]
  },
  {
   "cell_type": "markdown",
   "metadata": {},
   "source": [
    "### Construindo e treinando o modelo"
   ]
  },
  {
   "cell_type": "code",
   "execution_count": 66,
   "metadata": {},
   "outputs": [],
   "source": [
    "# Importando o algoritmo\n",
    "from sklearn.svm import SVC"
   ]
  },
  {
   "cell_type": "code",
   "execution_count": 67,
   "metadata": {},
   "outputs": [],
   "source": [
    "# Criando o modelo preditivo\n",
    "classificador = SVC(kernel = 'rbf', random_state = 1, C = 2.0, gamma = 'auto')"
   ]
  },
  {
   "cell_type": "code",
   "execution_count": 68,
   "metadata": {},
   "outputs": [
    {
     "data": {
      "text/plain": [
       "SVC(C=2.0, break_ties=False, cache_size=200, class_weight=None, coef0=0.0,\n",
       "    decision_function_shape='ovr', degree=3, gamma='auto', kernel='rbf',\n",
       "    max_iter=-1, probability=False, random_state=1, shrinking=True, tol=0.001,\n",
       "    verbose=False)"
      ]
     },
     "execution_count": 68,
     "metadata": {},
     "output_type": "execute_result"
    }
   ],
   "source": [
    "# Treinando o modelo\n",
    "classificador.fit(previsores_treinamento, classe_treinamento)"
   ]
  },
  {
   "cell_type": "code",
   "execution_count": 69,
   "metadata": {},
   "outputs": [],
   "source": [
    "# testando o modelo\n",
    "previsoes = classificador.predict(previsores_teste)"
   ]
  },
  {
   "cell_type": "markdown",
   "metadata": {},
   "source": [
    "### Verificando a exatidão no modelo"
   ]
  },
  {
   "cell_type": "code",
   "execution_count": 70,
   "metadata": {},
   "outputs": [
    {
     "data": {
      "text/plain": [
       "0.988"
      ]
     },
     "execution_count": 70,
     "metadata": {},
     "output_type": "execute_result"
    }
   ],
   "source": [
    "# precisão do modelo\n",
    "precisao = accuracy_score(classe_teste, previsoes)\n",
    "precisao"
   ]
  },
  {
   "cell_type": "code",
   "execution_count": 71,
   "metadata": {},
   "outputs": [
    {
     "data": {
      "text/plain": [
       "array([[434,   2],\n",
       "       [  4,  60]], dtype=int64)"
      ]
     },
     "execution_count": 71,
     "metadata": {},
     "output_type": "execute_result"
    }
   ],
   "source": [
    "# matriz de confusão\n",
    "# diagonal principal (quantidade de acertos)\n",
    "matriz = confusion_matrix(classe_teste, previsoes)\n",
    "matriz"
   ]
  },
  {
   "cell_type": "markdown",
   "metadata": {},
   "source": [
    "<h1>Redes Neurais Artificiais</h1>\n",
    "\n",
    "Redes Neurais Artificiais são técnicas computacionais que apresentam um modelo matemático inspirado na estrutura neural de organismos inteligentes e que adquirem conhecimento através da experiência. As redes neurais são compostas por várias unidades de processamento. Mesmo sendo usadas para resolverem problemas complexos, será utilizado como um exemplo."
   ]
  },
  {
   "cell_type": "markdown",
   "metadata": {},
   "source": [
    "## Redes Neurais com sklearn"
   ]
  },
  {
   "cell_type": "markdown",
   "metadata": {},
   "source": [
    "### Construindo e treinando o modelo"
   ]
  },
  {
   "cell_type": "code",
   "execution_count": 72,
   "metadata": {},
   "outputs": [],
   "source": [
    "# Importando o algoritmo\n",
    "from sklearn.neural_network import MLPClassifier"
   ]
  },
  {
   "cell_type": "code",
   "execution_count": 73,
   "metadata": {},
   "outputs": [],
   "source": [
    "# Criando o modelo preditivo\n",
    "classificador = MLPClassifier(verbose = True, max_iter = 1000, tol = 0.000010, random_state = 0)"
   ]
  },
  {
   "cell_type": "code",
   "execution_count": 74,
   "metadata": {},
   "outputs": [
    {
     "name": "stdout",
     "output_type": "stream",
     "text": [
      "Iteration 1, loss = 0.60888258\n",
      "Iteration 2, loss = 0.54856950\n",
      "Iteration 3, loss = 0.49705584\n",
      "Iteration 4, loss = 0.45274374\n",
      "Iteration 5, loss = 0.41460015\n",
      "Iteration 6, loss = 0.38239381\n",
      "Iteration 7, loss = 0.35450647\n",
      "Iteration 8, loss = 0.33020542\n",
      "Iteration 9, loss = 0.30880148\n",
      "Iteration 10, loss = 0.29023265\n",
      "Iteration 11, loss = 0.27346286\n",
      "Iteration 12, loss = 0.25853354\n",
      "Iteration 13, loss = 0.24513368\n",
      "Iteration 14, loss = 0.23289527\n",
      "Iteration 15, loss = 0.22197697\n",
      "Iteration 16, loss = 0.21185939\n",
      "Iteration 17, loss = 0.20279624\n",
      "Iteration 18, loss = 0.19432492\n",
      "Iteration 19, loss = 0.18666815\n",
      "Iteration 20, loss = 0.17959682\n",
      "Iteration 21, loss = 0.17304216\n",
      "Iteration 22, loss = 0.16697104\n",
      "Iteration 23, loss = 0.16135457\n",
      "Iteration 24, loss = 0.15611580\n",
      "Iteration 25, loss = 0.15122931\n",
      "Iteration 26, loss = 0.14669229\n",
      "Iteration 27, loss = 0.14264640\n",
      "Iteration 28, loss = 0.13861131\n",
      "Iteration 29, loss = 0.13496534\n",
      "Iteration 30, loss = 0.13164507\n",
      "Iteration 31, loss = 0.12845773\n",
      "Iteration 32, loss = 0.12534979\n",
      "Iteration 33, loss = 0.12255615\n",
      "Iteration 34, loss = 0.11987484\n",
      "Iteration 35, loss = 0.11721927\n",
      "Iteration 36, loss = 0.11474234\n",
      "Iteration 37, loss = 0.11243923\n",
      "Iteration 38, loss = 0.11032952\n",
      "Iteration 39, loss = 0.10823442\n",
      "Iteration 40, loss = 0.10612413\n",
      "Iteration 41, loss = 0.10428988\n",
      "Iteration 42, loss = 0.10245004\n",
      "Iteration 43, loss = 0.10071246\n",
      "Iteration 44, loss = 0.09888798\n",
      "Iteration 45, loss = 0.09727621\n",
      "Iteration 46, loss = 0.09570679\n",
      "Iteration 47, loss = 0.09437652\n",
      "Iteration 48, loss = 0.09270066\n",
      "Iteration 49, loss = 0.09132190\n",
      "Iteration 50, loss = 0.08990586\n",
      "Iteration 51, loss = 0.08863186\n",
      "Iteration 52, loss = 0.08743629\n",
      "Iteration 53, loss = 0.08614837\n",
      "Iteration 54, loss = 0.08498219\n",
      "Iteration 55, loss = 0.08386379\n",
      "Iteration 56, loss = 0.08275340\n",
      "Iteration 57, loss = 0.08171324\n",
      "Iteration 58, loss = 0.08070352\n",
      "Iteration 59, loss = 0.07969955\n",
      "Iteration 60, loss = 0.07869362\n",
      "Iteration 61, loss = 0.07779698\n",
      "Iteration 62, loss = 0.07691257\n",
      "Iteration 63, loss = 0.07598640\n",
      "Iteration 64, loss = 0.07508960\n",
      "Iteration 65, loss = 0.07428766\n",
      "Iteration 66, loss = 0.07354965\n",
      "Iteration 67, loss = 0.07261207\n",
      "Iteration 68, loss = 0.07186372\n",
      "Iteration 69, loss = 0.07109775\n",
      "Iteration 70, loss = 0.07031271\n",
      "Iteration 71, loss = 0.06957608\n",
      "Iteration 72, loss = 0.06890712\n",
      "Iteration 73, loss = 0.06813416\n",
      "Iteration 74, loss = 0.06748110\n",
      "Iteration 75, loss = 0.06675262\n",
      "Iteration 76, loss = 0.06613126\n",
      "Iteration 77, loss = 0.06550284\n",
      "Iteration 78, loss = 0.06483233\n",
      "Iteration 79, loss = 0.06417913\n",
      "Iteration 80, loss = 0.06357517\n",
      "Iteration 81, loss = 0.06297340\n",
      "Iteration 82, loss = 0.06236165\n",
      "Iteration 83, loss = 0.06181420\n",
      "Iteration 84, loss = 0.06124998\n",
      "Iteration 85, loss = 0.06069321\n",
      "Iteration 86, loss = 0.06009582\n",
      "Iteration 87, loss = 0.05957818\n",
      "Iteration 88, loss = 0.05906172\n",
      "Iteration 89, loss = 0.05854754\n",
      "Iteration 90, loss = 0.05799563\n",
      "Iteration 91, loss = 0.05746090\n",
      "Iteration 92, loss = 0.05696201\n",
      "Iteration 93, loss = 0.05646971\n",
      "Iteration 94, loss = 0.05596379\n",
      "Iteration 95, loss = 0.05544750\n",
      "Iteration 96, loss = 0.05503323\n",
      "Iteration 97, loss = 0.05448681\n",
      "Iteration 98, loss = 0.05401904\n",
      "Iteration 99, loss = 0.05362330\n",
      "Iteration 100, loss = 0.05319594\n",
      "Iteration 101, loss = 0.05271497\n",
      "Iteration 102, loss = 0.05227112\n",
      "Iteration 103, loss = 0.05186521\n",
      "Iteration 104, loss = 0.05141420\n",
      "Iteration 105, loss = 0.05095585\n",
      "Iteration 106, loss = 0.05056396\n",
      "Iteration 107, loss = 0.05022255\n",
      "Iteration 108, loss = 0.04974011\n",
      "Iteration 109, loss = 0.04944115\n",
      "Iteration 110, loss = 0.04900389\n",
      "Iteration 111, loss = 0.04874180\n",
      "Iteration 112, loss = 0.04817234\n",
      "Iteration 113, loss = 0.04784510\n",
      "Iteration 114, loss = 0.04744135\n",
      "Iteration 115, loss = 0.04718467\n",
      "Iteration 116, loss = 0.04670042\n",
      "Iteration 117, loss = 0.04635505\n",
      "Iteration 118, loss = 0.04599821\n",
      "Iteration 119, loss = 0.04567665\n",
      "Iteration 120, loss = 0.04536709\n",
      "Iteration 121, loss = 0.04510627\n",
      "Iteration 122, loss = 0.04465465\n",
      "Iteration 123, loss = 0.04431529\n",
      "Iteration 124, loss = 0.04405407\n",
      "Iteration 125, loss = 0.04375614\n",
      "Iteration 126, loss = 0.04339869\n",
      "Iteration 127, loss = 0.04311692\n",
      "Iteration 128, loss = 0.04282563\n",
      "Iteration 129, loss = 0.04247170\n",
      "Iteration 130, loss = 0.04217272\n",
      "Iteration 131, loss = 0.04193978\n",
      "Iteration 132, loss = 0.04161462\n",
      "Iteration 133, loss = 0.04132021\n",
      "Iteration 134, loss = 0.04107571\n",
      "Iteration 135, loss = 0.04082438\n",
      "Iteration 136, loss = 0.04045522\n",
      "Iteration 137, loss = 0.04022069\n",
      "Iteration 138, loss = 0.04000108\n",
      "Iteration 139, loss = 0.03966644\n",
      "Iteration 140, loss = 0.03940761\n",
      "Iteration 141, loss = 0.03918543\n",
      "Iteration 142, loss = 0.03887698\n",
      "Iteration 143, loss = 0.03866283\n",
      "Iteration 144, loss = 0.03844551\n",
      "Iteration 145, loss = 0.03817691\n",
      "Iteration 146, loss = 0.03794520\n",
      "Iteration 147, loss = 0.03770087\n",
      "Iteration 148, loss = 0.03747310\n",
      "Iteration 149, loss = 0.03727257\n",
      "Iteration 150, loss = 0.03703367\n",
      "Iteration 151, loss = 0.03678948\n",
      "Iteration 152, loss = 0.03657294\n",
      "Iteration 153, loss = 0.03646353\n",
      "Iteration 154, loss = 0.03625848\n",
      "Iteration 155, loss = 0.03593457\n",
      "Iteration 156, loss = 0.03577266\n",
      "Iteration 157, loss = 0.03551188\n",
      "Iteration 158, loss = 0.03534474\n",
      "Iteration 159, loss = 0.03513500\n",
      "Iteration 160, loss = 0.03488755\n",
      "Iteration 161, loss = 0.03480073\n",
      "Iteration 162, loss = 0.03453081\n",
      "Iteration 163, loss = 0.03429886\n",
      "Iteration 164, loss = 0.03424499\n",
      "Iteration 165, loss = 0.03391927\n",
      "Iteration 166, loss = 0.03372012\n",
      "Iteration 167, loss = 0.03359083\n",
      "Iteration 168, loss = 0.03338780\n",
      "Iteration 169, loss = 0.03320430\n",
      "Iteration 170, loss = 0.03302069\n",
      "Iteration 171, loss = 0.03282079\n",
      "Iteration 172, loss = 0.03269395\n",
      "Iteration 173, loss = 0.03251560\n",
      "Iteration 174, loss = 0.03226331\n",
      "Iteration 175, loss = 0.03214400\n",
      "Iteration 176, loss = 0.03193129\n",
      "Iteration 177, loss = 0.03174817\n",
      "Iteration 178, loss = 0.03159929\n",
      "Iteration 179, loss = 0.03157753\n",
      "Iteration 180, loss = 0.03131304\n",
      "Iteration 181, loss = 0.03114987\n",
      "Iteration 182, loss = 0.03100868\n",
      "Iteration 183, loss = 0.03081172\n",
      "Iteration 184, loss = 0.03061427\n",
      "Iteration 185, loss = 0.03060564\n",
      "Iteration 186, loss = 0.03036002\n",
      "Iteration 187, loss = 0.03016156\n",
      "Iteration 188, loss = 0.03010266\n",
      "Iteration 189, loss = 0.02995990\n",
      "Iteration 190, loss = 0.02976535\n",
      "Iteration 191, loss = 0.02962599\n",
      "Iteration 192, loss = 0.02940453\n",
      "Iteration 193, loss = 0.02936183\n",
      "Iteration 194, loss = 0.02918423\n",
      "Iteration 195, loss = 0.02910406\n",
      "Iteration 196, loss = 0.02890270\n",
      "Iteration 197, loss = 0.02881107\n",
      "Iteration 198, loss = 0.02861679\n",
      "Iteration 199, loss = 0.02851459\n",
      "Iteration 200, loss = 0.02839467\n",
      "Iteration 201, loss = 0.02823170\n",
      "Iteration 202, loss = 0.02811329\n",
      "Iteration 203, loss = 0.02800398\n",
      "Iteration 204, loss = 0.02787196\n",
      "Iteration 205, loss = 0.02775818\n",
      "Iteration 206, loss = 0.02765937\n",
      "Iteration 207, loss = 0.02754100\n",
      "Iteration 208, loss = 0.02734787\n",
      "Iteration 209, loss = 0.02724394\n",
      "Iteration 210, loss = 0.02713348\n",
      "Iteration 211, loss = 0.02712361\n",
      "Iteration 212, loss = 0.02689082\n",
      "Iteration 213, loss = 0.02679912\n",
      "Iteration 214, loss = 0.02672294\n",
      "Iteration 215, loss = 0.02655822\n",
      "Iteration 216, loss = 0.02641664\n",
      "Iteration 217, loss = 0.02630418\n",
      "Iteration 218, loss = 0.02623189\n",
      "Iteration 219, loss = 0.02605005\n",
      "Iteration 220, loss = 0.02598432\n",
      "Iteration 221, loss = 0.02588030\n",
      "Iteration 222, loss = 0.02577694\n",
      "Iteration 223, loss = 0.02571154\n",
      "Iteration 224, loss = 0.02562968\n",
      "Iteration 225, loss = 0.02548155\n",
      "Iteration 226, loss = 0.02548995\n",
      "Iteration 227, loss = 0.02521911\n",
      "Iteration 228, loss = 0.02515579\n",
      "Iteration 229, loss = 0.02498025\n",
      "Iteration 230, loss = 0.02484309\n",
      "Iteration 231, loss = 0.02487069\n",
      "Iteration 232, loss = 0.02475536\n",
      "Iteration 233, loss = 0.02456804\n",
      "Iteration 234, loss = 0.02452959\n",
      "Iteration 235, loss = 0.02436991\n",
      "Iteration 236, loss = 0.02428499\n",
      "Iteration 237, loss = 0.02418392\n",
      "Iteration 238, loss = 0.02410534\n",
      "Iteration 239, loss = 0.02400657\n",
      "Iteration 240, loss = 0.02390477\n",
      "Iteration 241, loss = 0.02384445\n",
      "Iteration 242, loss = 0.02373990\n",
      "Iteration 243, loss = 0.02363211\n",
      "Iteration 244, loss = 0.02354452\n",
      "Iteration 245, loss = 0.02343860\n",
      "Iteration 246, loss = 0.02347004\n",
      "Iteration 247, loss = 0.02325169\n",
      "Iteration 248, loss = 0.02319185\n",
      "Iteration 249, loss = 0.02315032\n",
      "Iteration 250, loss = 0.02310509\n",
      "Iteration 251, loss = 0.02291080\n",
      "Iteration 252, loss = 0.02281679\n",
      "Iteration 253, loss = 0.02279002\n",
      "Iteration 254, loss = 0.02265350\n",
      "Iteration 255, loss = 0.02256565\n",
      "Iteration 256, loss = 0.02246524\n",
      "Iteration 257, loss = 0.02244601\n",
      "Iteration 258, loss = 0.02235527\n",
      "Iteration 259, loss = 0.02220874\n",
      "Iteration 260, loss = 0.02222303\n",
      "Iteration 261, loss = 0.02211936\n",
      "Iteration 262, loss = 0.02196696\n",
      "Iteration 263, loss = 0.02190277\n",
      "Iteration 264, loss = 0.02183960\n",
      "Iteration 265, loss = 0.02175662\n",
      "Iteration 266, loss = 0.02164181\n",
      "Iteration 267, loss = 0.02154197\n",
      "Iteration 268, loss = 0.02149690\n",
      "Iteration 269, loss = 0.02138724\n",
      "Iteration 270, loss = 0.02131797\n",
      "Iteration 271, loss = 0.02132300\n",
      "Iteration 272, loss = 0.02116826\n",
      "Iteration 273, loss = 0.02121403\n"
     ]
    },
    {
     "name": "stdout",
     "output_type": "stream",
     "text": [
      "Iteration 274, loss = 0.02101446\n",
      "Iteration 275, loss = 0.02096842\n",
      "Iteration 276, loss = 0.02088429\n",
      "Iteration 277, loss = 0.02084772\n",
      "Iteration 278, loss = 0.02067162\n",
      "Iteration 279, loss = 0.02068262\n",
      "Iteration 280, loss = 0.02054337\n",
      "Iteration 281, loss = 0.02056139\n",
      "Iteration 282, loss = 0.02037177\n",
      "Iteration 283, loss = 0.02043931\n",
      "Iteration 284, loss = 0.02026343\n",
      "Iteration 285, loss = 0.02032413\n",
      "Iteration 286, loss = 0.02015205\n",
      "Iteration 287, loss = 0.02004596\n",
      "Iteration 288, loss = 0.01998146\n",
      "Iteration 289, loss = 0.01992813\n",
      "Iteration 290, loss = 0.01990523\n",
      "Iteration 291, loss = 0.01984882\n",
      "Iteration 292, loss = 0.01973041\n",
      "Iteration 293, loss = 0.01965528\n",
      "Iteration 294, loss = 0.01961069\n",
      "Iteration 295, loss = 0.01955367\n",
      "Iteration 296, loss = 0.01946524\n",
      "Iteration 297, loss = 0.01940217\n",
      "Iteration 298, loss = 0.01936100\n",
      "Iteration 299, loss = 0.01926885\n",
      "Iteration 300, loss = 0.01921192\n",
      "Iteration 301, loss = 0.01913168\n",
      "Iteration 302, loss = 0.01906063\n",
      "Iteration 303, loss = 0.01907268\n",
      "Iteration 304, loss = 0.01890064\n",
      "Iteration 305, loss = 0.01888644\n",
      "Iteration 306, loss = 0.01896176\n",
      "Iteration 307, loss = 0.01881618\n",
      "Iteration 308, loss = 0.01870055\n",
      "Iteration 309, loss = 0.01865124\n",
      "Iteration 310, loss = 0.01860369\n",
      "Iteration 311, loss = 0.01851555\n",
      "Iteration 312, loss = 0.01857472\n",
      "Iteration 313, loss = 0.01849103\n",
      "Iteration 314, loss = 0.01834951\n",
      "Iteration 315, loss = 0.01834591\n",
      "Iteration 316, loss = 0.01824590\n",
      "Iteration 317, loss = 0.01814451\n",
      "Iteration 318, loss = 0.01815820\n",
      "Iteration 319, loss = 0.01820297\n",
      "Iteration 320, loss = 0.01797332\n",
      "Iteration 321, loss = 0.01792917\n",
      "Iteration 322, loss = 0.01796434\n",
      "Iteration 323, loss = 0.01778976\n",
      "Iteration 324, loss = 0.01776369\n",
      "Iteration 325, loss = 0.01775623\n",
      "Iteration 326, loss = 0.01767085\n",
      "Iteration 327, loss = 0.01767615\n",
      "Iteration 328, loss = 0.01758130\n",
      "Iteration 329, loss = 0.01751182\n",
      "Iteration 330, loss = 0.01751352\n",
      "Iteration 331, loss = 0.01740580\n",
      "Iteration 332, loss = 0.01742486\n",
      "Iteration 333, loss = 0.01727563\n",
      "Iteration 334, loss = 0.01723174\n",
      "Iteration 335, loss = 0.01720281\n",
      "Iteration 336, loss = 0.01713590\n",
      "Iteration 337, loss = 0.01703650\n",
      "Iteration 338, loss = 0.01701811\n",
      "Iteration 339, loss = 0.01700456\n",
      "Iteration 340, loss = 0.01690961\n",
      "Iteration 341, loss = 0.01682690\n",
      "Iteration 342, loss = 0.01689076\n",
      "Iteration 343, loss = 0.01676623\n",
      "Iteration 344, loss = 0.01669577\n",
      "Iteration 345, loss = 0.01676650\n",
      "Iteration 346, loss = 0.01672528\n",
      "Iteration 347, loss = 0.01656265\n",
      "Iteration 348, loss = 0.01648912\n",
      "Iteration 349, loss = 0.01652942\n",
      "Iteration 350, loss = 0.01645192\n",
      "Iteration 351, loss = 0.01636743\n",
      "Iteration 352, loss = 0.01628956\n",
      "Iteration 353, loss = 0.01631271\n",
      "Iteration 354, loss = 0.01627658\n",
      "Iteration 355, loss = 0.01614961\n",
      "Iteration 356, loss = 0.01618671\n",
      "Iteration 357, loss = 0.01603621\n",
      "Iteration 358, loss = 0.01600514\n",
      "Iteration 359, loss = 0.01596555\n",
      "Iteration 360, loss = 0.01594852\n",
      "Iteration 361, loss = 0.01588116\n",
      "Iteration 362, loss = 0.01580939\n",
      "Iteration 363, loss = 0.01581915\n",
      "Iteration 364, loss = 0.01582000\n",
      "Iteration 365, loss = 0.01573492\n",
      "Iteration 366, loss = 0.01568176\n",
      "Iteration 367, loss = 0.01570574\n",
      "Iteration 368, loss = 0.01563182\n",
      "Iteration 369, loss = 0.01553860\n",
      "Iteration 370, loss = 0.01554571\n",
      "Iteration 371, loss = 0.01541883\n",
      "Iteration 372, loss = 0.01540592\n",
      "Iteration 373, loss = 0.01537568\n",
      "Iteration 374, loss = 0.01535575\n",
      "Iteration 375, loss = 0.01522938\n",
      "Iteration 376, loss = 0.01521651\n",
      "Iteration 377, loss = 0.01513345\n",
      "Iteration 378, loss = 0.01511776\n",
      "Iteration 379, loss = 0.01511423\n",
      "Iteration 380, loss = 0.01506468\n",
      "Iteration 381, loss = 0.01499701\n",
      "Iteration 382, loss = 0.01496243\n",
      "Iteration 383, loss = 0.01494816\n",
      "Iteration 384, loss = 0.01488261\n",
      "Iteration 385, loss = 0.01483635\n",
      "Iteration 386, loss = 0.01479940\n",
      "Iteration 387, loss = 0.01479840\n",
      "Iteration 388, loss = 0.01482656\n",
      "Iteration 389, loss = 0.01469883\n",
      "Iteration 390, loss = 0.01464489\n",
      "Iteration 391, loss = 0.01461051\n",
      "Iteration 392, loss = 0.01472565\n",
      "Iteration 393, loss = 0.01448947\n",
      "Iteration 394, loss = 0.01454317\n",
      "Iteration 395, loss = 0.01451545\n",
      "Iteration 396, loss = 0.01437506\n",
      "Iteration 397, loss = 0.01444208\n",
      "Iteration 398, loss = 0.01431324\n",
      "Iteration 399, loss = 0.01432900\n",
      "Iteration 400, loss = 0.01425900\n",
      "Iteration 401, loss = 0.01423269\n",
      "Iteration 402, loss = 0.01421330\n",
      "Iteration 403, loss = 0.01410893\n",
      "Iteration 404, loss = 0.01407937\n",
      "Iteration 405, loss = 0.01408817\n",
      "Iteration 406, loss = 0.01405645\n",
      "Iteration 407, loss = 0.01402779\n",
      "Iteration 408, loss = 0.01395470\n",
      "Iteration 409, loss = 0.01391809\n",
      "Iteration 410, loss = 0.01388464\n",
      "Iteration 411, loss = 0.01385251\n",
      "Iteration 412, loss = 0.01380830\n",
      "Iteration 413, loss = 0.01376072\n",
      "Iteration 414, loss = 0.01374229\n",
      "Iteration 415, loss = 0.01374007\n",
      "Iteration 416, loss = 0.01369175\n",
      "Iteration 417, loss = 0.01356713\n",
      "Iteration 418, loss = 0.01363910\n",
      "Iteration 419, loss = 0.01355159\n",
      "Iteration 420, loss = 0.01348195\n",
      "Iteration 421, loss = 0.01344410\n",
      "Iteration 422, loss = 0.01338600\n",
      "Iteration 423, loss = 0.01341729\n",
      "Iteration 424, loss = 0.01334967\n",
      "Iteration 425, loss = 0.01338440\n",
      "Iteration 426, loss = 0.01329648\n",
      "Iteration 427, loss = 0.01325293\n",
      "Iteration 428, loss = 0.01318508\n",
      "Iteration 429, loss = 0.01314986\n",
      "Iteration 430, loss = 0.01316134\n",
      "Iteration 431, loss = 0.01324810\n",
      "Iteration 432, loss = 0.01319964\n",
      "Iteration 433, loss = 0.01304366\n",
      "Iteration 434, loss = 0.01302734\n",
      "Iteration 435, loss = 0.01296133\n",
      "Iteration 436, loss = 0.01297613\n",
      "Iteration 437, loss = 0.01289873\n",
      "Iteration 438, loss = 0.01288292\n",
      "Iteration 439, loss = 0.01286600\n",
      "Iteration 440, loss = 0.01287320\n",
      "Iteration 441, loss = 0.01275100\n",
      "Iteration 442, loss = 0.01273576\n",
      "Iteration 443, loss = 0.01267529\n",
      "Iteration 444, loss = 0.01268721\n",
      "Iteration 445, loss = 0.01262691\n",
      "Iteration 446, loss = 0.01262528\n",
      "Iteration 447, loss = 0.01266050\n",
      "Iteration 448, loss = 0.01254493\n",
      "Iteration 449, loss = 0.01256837\n",
      "Iteration 450, loss = 0.01248059\n",
      "Iteration 451, loss = 0.01245988\n",
      "Iteration 452, loss = 0.01248096\n",
      "Iteration 453, loss = 0.01239543\n",
      "Iteration 454, loss = 0.01238006\n",
      "Iteration 455, loss = 0.01230332\n",
      "Iteration 456, loss = 0.01235482\n",
      "Iteration 457, loss = 0.01235518\n",
      "Iteration 458, loss = 0.01230887\n",
      "Iteration 459, loss = 0.01218365\n",
      "Iteration 460, loss = 0.01218085\n",
      "Iteration 461, loss = 0.01221755\n",
      "Iteration 462, loss = 0.01219910\n",
      "Iteration 463, loss = 0.01209334\n",
      "Iteration 464, loss = 0.01206416\n",
      "Iteration 465, loss = 0.01208429\n",
      "Iteration 466, loss = 0.01205587\n",
      "Iteration 467, loss = 0.01200112\n",
      "Iteration 468, loss = 0.01193142\n",
      "Iteration 469, loss = 0.01193661\n",
      "Iteration 470, loss = 0.01193547\n",
      "Iteration 471, loss = 0.01182826\n",
      "Iteration 472, loss = 0.01183754\n",
      "Iteration 473, loss = 0.01180139\n",
      "Iteration 474, loss = 0.01176222\n",
      "Iteration 475, loss = 0.01174862\n",
      "Iteration 476, loss = 0.01168467\n",
      "Iteration 477, loss = 0.01173515\n",
      "Iteration 478, loss = 0.01165004\n",
      "Iteration 479, loss = 0.01167252\n",
      "Iteration 480, loss = 0.01159643\n",
      "Iteration 481, loss = 0.01157655\n",
      "Iteration 482, loss = 0.01154501\n",
      "Iteration 483, loss = 0.01149997\n",
      "Iteration 484, loss = 0.01157959\n",
      "Iteration 485, loss = 0.01146386\n",
      "Iteration 486, loss = 0.01148384\n",
      "Iteration 487, loss = 0.01148844\n",
      "Iteration 488, loss = 0.01141612\n",
      "Iteration 489, loss = 0.01135110\n",
      "Iteration 490, loss = 0.01133391\n",
      "Iteration 491, loss = 0.01134862\n",
      "Iteration 492, loss = 0.01134310\n",
      "Iteration 493, loss = 0.01130156\n",
      "Iteration 494, loss = 0.01120481\n",
      "Iteration 495, loss = 0.01118231\n",
      "Iteration 496, loss = 0.01117513\n",
      "Iteration 497, loss = 0.01112651\n",
      "Iteration 498, loss = 0.01114068\n",
      "Iteration 499, loss = 0.01107963\n",
      "Iteration 500, loss = 0.01106825\n",
      "Iteration 501, loss = 0.01105260\n",
      "Iteration 502, loss = 0.01099668\n",
      "Iteration 503, loss = 0.01101534\n",
      "Iteration 504, loss = 0.01096121\n",
      "Iteration 505, loss = 0.01095988\n",
      "Iteration 506, loss = 0.01088192\n",
      "Iteration 507, loss = 0.01090208\n",
      "Iteration 508, loss = 0.01087322\n",
      "Iteration 509, loss = 0.01082676\n",
      "Iteration 510, loss = 0.01093032\n",
      "Iteration 511, loss = 0.01088461\n",
      "Iteration 512, loss = 0.01078375\n",
      "Iteration 513, loss = 0.01074879\n",
      "Iteration 514, loss = 0.01073785\n",
      "Iteration 515, loss = 0.01067162\n",
      "Iteration 516, loss = 0.01065486\n",
      "Iteration 517, loss = 0.01066711\n",
      "Iteration 518, loss = 0.01075168\n",
      "Iteration 519, loss = 0.01060355\n",
      "Iteration 520, loss = 0.01057169\n",
      "Iteration 521, loss = 0.01056136\n",
      "Iteration 522, loss = 0.01060998\n",
      "Iteration 523, loss = 0.01050238\n",
      "Iteration 524, loss = 0.01045646\n",
      "Iteration 525, loss = 0.01048357\n",
      "Iteration 526, loss = 0.01048356\n",
      "Iteration 527, loss = 0.01036805\n",
      "Iteration 528, loss = 0.01038928\n",
      "Iteration 529, loss = 0.01044955\n",
      "Iteration 530, loss = 0.01035513\n",
      "Iteration 531, loss = 0.01035148\n",
      "Iteration 532, loss = 0.01028345\n",
      "Iteration 533, loss = 0.01035005\n",
      "Iteration 534, loss = 0.01020788\n",
      "Iteration 535, loss = 0.01023085\n",
      "Iteration 536, loss = 0.01016816\n",
      "Iteration 537, loss = 0.01015470\n",
      "Iteration 538, loss = 0.01011099\n",
      "Iteration 539, loss = 0.01013155\n",
      "Iteration 540, loss = 0.01006725\n",
      "Iteration 541, loss = 0.01005605\n",
      "Iteration 542, loss = 0.01004448\n",
      "Iteration 543, loss = 0.01000087\n",
      "Iteration 544, loss = 0.01004719\n",
      "Iteration 545, loss = 0.01006501\n"
     ]
    },
    {
     "name": "stdout",
     "output_type": "stream",
     "text": [
      "Iteration 546, loss = 0.00993382\n",
      "Iteration 547, loss = 0.00991252\n",
      "Iteration 548, loss = 0.00992532\n",
      "Iteration 549, loss = 0.00990903\n",
      "Iteration 550, loss = 0.00992385\n",
      "Iteration 551, loss = 0.00988578\n",
      "Iteration 552, loss = 0.00978914\n",
      "Iteration 553, loss = 0.00985931\n",
      "Iteration 554, loss = 0.00984018\n",
      "Iteration 555, loss = 0.00978697\n",
      "Iteration 556, loss = 0.00976582\n",
      "Iteration 557, loss = 0.00984114\n",
      "Iteration 558, loss = 0.00969184\n",
      "Iteration 559, loss = 0.00968946\n",
      "Iteration 560, loss = 0.00966053\n",
      "Iteration 561, loss = 0.00964940\n",
      "Iteration 562, loss = 0.00965137\n",
      "Iteration 563, loss = 0.00960377\n",
      "Iteration 564, loss = 0.00956762\n",
      "Iteration 565, loss = 0.00953344\n",
      "Iteration 566, loss = 0.00958855\n",
      "Iteration 567, loss = 0.00953720\n",
      "Iteration 568, loss = 0.00946304\n",
      "Iteration 569, loss = 0.00962997\n",
      "Iteration 570, loss = 0.00942852\n",
      "Iteration 571, loss = 0.00949459\n",
      "Iteration 572, loss = 0.00954454\n",
      "Iteration 573, loss = 0.00949557\n",
      "Iteration 574, loss = 0.00942138\n",
      "Iteration 575, loss = 0.00940756\n",
      "Iteration 576, loss = 0.00930971\n",
      "Iteration 577, loss = 0.00931848\n",
      "Iteration 578, loss = 0.00952760\n",
      "Iteration 579, loss = 0.00930089\n",
      "Iteration 580, loss = 0.00923258\n",
      "Iteration 581, loss = 0.00924738\n",
      "Iteration 582, loss = 0.00919234\n",
      "Iteration 583, loss = 0.00924421\n",
      "Iteration 584, loss = 0.00920642\n",
      "Iteration 585, loss = 0.00915206\n",
      "Iteration 586, loss = 0.00915677\n",
      "Iteration 587, loss = 0.00914756\n",
      "Iteration 588, loss = 0.00909475\n",
      "Iteration 589, loss = 0.00914463\n",
      "Iteration 590, loss = 0.00903826\n",
      "Iteration 591, loss = 0.00905556\n",
      "Iteration 592, loss = 0.00904469\n",
      "Iteration 593, loss = 0.00903217\n",
      "Iteration 594, loss = 0.00894607\n",
      "Iteration 595, loss = 0.00899217\n",
      "Iteration 596, loss = 0.00900865\n",
      "Iteration 597, loss = 0.00891737\n",
      "Iteration 598, loss = 0.00893648\n",
      "Iteration 599, loss = 0.00889128\n",
      "Iteration 600, loss = 0.00886199\n",
      "Iteration 601, loss = 0.00886720\n",
      "Iteration 602, loss = 0.00882041\n",
      "Iteration 603, loss = 0.00883475\n",
      "Iteration 604, loss = 0.00879863\n",
      "Iteration 605, loss = 0.00873682\n",
      "Iteration 606, loss = 0.00880909\n",
      "Iteration 607, loss = 0.00874460\n",
      "Iteration 608, loss = 0.00870104\n",
      "Iteration 609, loss = 0.00879129\n",
      "Iteration 610, loss = 0.00865730\n",
      "Iteration 611, loss = 0.00875695\n",
      "Iteration 612, loss = 0.00867875\n",
      "Iteration 613, loss = 0.00861803\n",
      "Iteration 614, loss = 0.00861888\n",
      "Iteration 615, loss = 0.00860096\n",
      "Iteration 616, loss = 0.00862575\n",
      "Iteration 617, loss = 0.00861367\n",
      "Iteration 618, loss = 0.00856461\n",
      "Iteration 619, loss = 0.00849638\n",
      "Iteration 620, loss = 0.00850284\n",
      "Iteration 621, loss = 0.00853416\n",
      "Iteration 622, loss = 0.00844410\n",
      "Iteration 623, loss = 0.00843730\n",
      "Iteration 624, loss = 0.00845922\n",
      "Iteration 625, loss = 0.00847713\n",
      "Iteration 626, loss = 0.00840998\n",
      "Iteration 627, loss = 0.00834036\n",
      "Iteration 628, loss = 0.00835306\n",
      "Iteration 629, loss = 0.00840773\n",
      "Iteration 630, loss = 0.00832347\n",
      "Iteration 631, loss = 0.00833972\n",
      "Iteration 632, loss = 0.00829713\n",
      "Iteration 633, loss = 0.00829107\n",
      "Iteration 634, loss = 0.00827192\n",
      "Iteration 635, loss = 0.00824983\n",
      "Iteration 636, loss = 0.00826411\n",
      "Iteration 637, loss = 0.00822728\n",
      "Iteration 638, loss = 0.00825171\n",
      "Iteration 639, loss = 0.00822685\n",
      "Iteration 640, loss = 0.00808474\n",
      "Iteration 641, loss = 0.00821287\n",
      "Iteration 642, loss = 0.00816605\n",
      "Iteration 643, loss = 0.00811774\n",
      "Iteration 644, loss = 0.00807526\n",
      "Iteration 645, loss = 0.00807670\n",
      "Iteration 646, loss = 0.00807180\n",
      "Iteration 647, loss = 0.00803696\n",
      "Iteration 648, loss = 0.00802994\n",
      "Iteration 649, loss = 0.00801715\n",
      "Iteration 650, loss = 0.00796843\n",
      "Iteration 651, loss = 0.00800096\n",
      "Iteration 652, loss = 0.00799198\n",
      "Iteration 653, loss = 0.00803825\n",
      "Iteration 654, loss = 0.00788691\n",
      "Iteration 655, loss = 0.00798453\n",
      "Iteration 656, loss = 0.00790942\n",
      "Iteration 657, loss = 0.00787746\n",
      "Iteration 658, loss = 0.00789208\n",
      "Iteration 659, loss = 0.00783716\n",
      "Iteration 660, loss = 0.00784111\n",
      "Iteration 661, loss = 0.00780785\n",
      "Iteration 662, loss = 0.00786090\n",
      "Iteration 663, loss = 0.00784294\n",
      "Iteration 664, loss = 0.00784109\n",
      "Iteration 665, loss = 0.00777131\n",
      "Iteration 666, loss = 0.00773855\n",
      "Iteration 667, loss = 0.00772062\n",
      "Iteration 668, loss = 0.00768811\n",
      "Iteration 669, loss = 0.00771638\n",
      "Iteration 670, loss = 0.00773375\n",
      "Iteration 671, loss = 0.00771435\n",
      "Iteration 672, loss = 0.00763576\n",
      "Iteration 673, loss = 0.00761556\n",
      "Iteration 674, loss = 0.00761349\n",
      "Iteration 675, loss = 0.00768747\n",
      "Iteration 676, loss = 0.00759358\n",
      "Iteration 677, loss = 0.00755898\n",
      "Iteration 678, loss = 0.00770247\n",
      "Iteration 679, loss = 0.00767133\n",
      "Iteration 680, loss = 0.00766953\n",
      "Iteration 681, loss = 0.00751557\n",
      "Iteration 682, loss = 0.00750052\n",
      "Iteration 683, loss = 0.00749471\n",
      "Iteration 684, loss = 0.00746043\n",
      "Iteration 685, loss = 0.00744197\n",
      "Iteration 686, loss = 0.00747627\n",
      "Iteration 687, loss = 0.00742989\n",
      "Iteration 688, loss = 0.00742992\n",
      "Iteration 689, loss = 0.00742117\n",
      "Iteration 690, loss = 0.00742957\n",
      "Iteration 691, loss = 0.00739606\n",
      "Iteration 692, loss = 0.00735438\n",
      "Iteration 693, loss = 0.00746049\n",
      "Iteration 694, loss = 0.00733403\n",
      "Iteration 695, loss = 0.00732991\n",
      "Iteration 696, loss = 0.00728600\n",
      "Iteration 697, loss = 0.00732391\n",
      "Iteration 698, loss = 0.00725878\n",
      "Iteration 699, loss = 0.00724233\n",
      "Iteration 700, loss = 0.00730052\n",
      "Iteration 701, loss = 0.00725363\n",
      "Iteration 702, loss = 0.00721361\n",
      "Iteration 703, loss = 0.00722338\n",
      "Iteration 704, loss = 0.00716582\n",
      "Iteration 705, loss = 0.00723632\n",
      "Iteration 706, loss = 0.00720374\n",
      "Iteration 707, loss = 0.00712921\n",
      "Iteration 708, loss = 0.00714787\n",
      "Iteration 709, loss = 0.00715835\n",
      "Iteration 710, loss = 0.00717867\n",
      "Iteration 711, loss = 0.00710524\n",
      "Iteration 712, loss = 0.00708531\n",
      "Iteration 713, loss = 0.00707818\n",
      "Iteration 714, loss = 0.00705003\n",
      "Iteration 715, loss = 0.00706997\n",
      "Iteration 716, loss = 0.00710964\n",
      "Iteration 717, loss = 0.00703911\n",
      "Iteration 718, loss = 0.00703604\n",
      "Iteration 719, loss = 0.00710546\n",
      "Iteration 720, loss = 0.00704091\n",
      "Iteration 721, loss = 0.00695276\n",
      "Iteration 722, loss = 0.00698732\n",
      "Iteration 723, loss = 0.00694328\n",
      "Iteration 724, loss = 0.00692790\n",
      "Iteration 725, loss = 0.00695614\n",
      "Iteration 726, loss = 0.00694904\n",
      "Iteration 727, loss = 0.00700302\n",
      "Iteration 728, loss = 0.00688112\n",
      "Iteration 729, loss = 0.00686234\n",
      "Iteration 730, loss = 0.00691773\n",
      "Iteration 731, loss = 0.00685406\n",
      "Iteration 732, loss = 0.00684774\n",
      "Iteration 733, loss = 0.00680697\n",
      "Iteration 734, loss = 0.00679451\n",
      "Iteration 735, loss = 0.00685131\n",
      "Iteration 736, loss = 0.00683328\n",
      "Iteration 737, loss = 0.00676003\n",
      "Iteration 738, loss = 0.00680750\n",
      "Iteration 739, loss = 0.00671909\n",
      "Iteration 740, loss = 0.00672972\n",
      "Iteration 741, loss = 0.00672010\n",
      "Iteration 742, loss = 0.00679682\n",
      "Iteration 743, loss = 0.00667648\n",
      "Iteration 744, loss = 0.00667656\n",
      "Iteration 745, loss = 0.00666588\n",
      "Iteration 746, loss = 0.00667602\n",
      "Iteration 747, loss = 0.00666992\n",
      "Iteration 748, loss = 0.00662821\n",
      "Iteration 749, loss = 0.00661562\n",
      "Iteration 750, loss = 0.00661715\n",
      "Iteration 751, loss = 0.00657211\n",
      "Iteration 752, loss = 0.00658552\n",
      "Iteration 753, loss = 0.00652508\n",
      "Iteration 754, loss = 0.00654251\n",
      "Iteration 755, loss = 0.00658661\n",
      "Iteration 756, loss = 0.00651250\n",
      "Iteration 757, loss = 0.00653030\n",
      "Iteration 758, loss = 0.00647906\n",
      "Iteration 759, loss = 0.00646361\n",
      "Iteration 760, loss = 0.00647885\n",
      "Iteration 761, loss = 0.00643135\n",
      "Iteration 762, loss = 0.00644848\n",
      "Iteration 763, loss = 0.00639558\n",
      "Iteration 764, loss = 0.00638830\n",
      "Iteration 765, loss = 0.00646585\n",
      "Iteration 766, loss = 0.00638811\n",
      "Iteration 767, loss = 0.00638750\n",
      "Iteration 768, loss = 0.00638399\n",
      "Iteration 769, loss = 0.00641893\n",
      "Iteration 770, loss = 0.00635981\n",
      "Iteration 771, loss = 0.00638028\n",
      "Iteration 772, loss = 0.00636267\n",
      "Iteration 773, loss = 0.00631455\n",
      "Iteration 774, loss = 0.00627356\n",
      "Iteration 775, loss = 0.00628552\n",
      "Iteration 776, loss = 0.00649018\n",
      "Iteration 777, loss = 0.00627278\n",
      "Iteration 778, loss = 0.00630803\n",
      "Iteration 779, loss = 0.00626825\n",
      "Iteration 780, loss = 0.00623793\n",
      "Iteration 781, loss = 0.00629766\n",
      "Iteration 782, loss = 0.00628573\n",
      "Iteration 783, loss = 0.00621427\n",
      "Iteration 784, loss = 0.00623891\n",
      "Iteration 785, loss = 0.00618793\n",
      "Iteration 786, loss = 0.00620186\n",
      "Iteration 787, loss = 0.00619522\n",
      "Iteration 788, loss = 0.00614543\n",
      "Iteration 789, loss = 0.00611343\n",
      "Iteration 790, loss = 0.00611821\n",
      "Iteration 791, loss = 0.00616335\n",
      "Iteration 792, loss = 0.00611623\n",
      "Iteration 793, loss = 0.00616432\n",
      "Iteration 794, loss = 0.00610113\n",
      "Iteration 795, loss = 0.00606987\n",
      "Iteration 796, loss = 0.00608527\n",
      "Iteration 797, loss = 0.00608689\n",
      "Iteration 798, loss = 0.00607212\n",
      "Iteration 799, loss = 0.00604229\n",
      "Iteration 800, loss = 0.00600319\n",
      "Iteration 801, loss = 0.00605743\n",
      "Iteration 802, loss = 0.00597104\n",
      "Iteration 803, loss = 0.00601118\n",
      "Iteration 804, loss = 0.00596113\n",
      "Iteration 805, loss = 0.00595685\n",
      "Iteration 806, loss = 0.00598070\n",
      "Iteration 807, loss = 0.00595174\n",
      "Iteration 808, loss = 0.00593474\n",
      "Iteration 809, loss = 0.00596136\n",
      "Iteration 810, loss = 0.00597411\n",
      "Iteration 811, loss = 0.00588334\n",
      "Iteration 812, loss = 0.00584729\n",
      "Iteration 813, loss = 0.00587382\n",
      "Iteration 814, loss = 0.00585301\n",
      "Iteration 815, loss = 0.00593757\n",
      "Iteration 816, loss = 0.00589003\n",
      "Iteration 817, loss = 0.00582564\n",
      "Iteration 818, loss = 0.00581437\n",
      "Iteration 819, loss = 0.00586137\n",
      "Iteration 820, loss = 0.00582961\n",
      "Iteration 821, loss = 0.00579769\n",
      "Iteration 822, loss = 0.00577788\n",
      "Iteration 823, loss = 0.00577435\n",
      "Iteration 824, loss = 0.00575131\n",
      "Iteration 825, loss = 0.00576911\n",
      "Iteration 826, loss = 0.00579005\n",
      "Iteration 827, loss = 0.00575021\n",
      "Iteration 828, loss = 0.00570720\n",
      "Iteration 829, loss = 0.00570751\n",
      "Iteration 830, loss = 0.00577776\n",
      "Iteration 831, loss = 0.00571600\n",
      "Iteration 832, loss = 0.00570751\n",
      "Iteration 833, loss = 0.00570923\n",
      "Iteration 834, loss = 0.00565541\n",
      "Iteration 835, loss = 0.00579398\n",
      "Iteration 836, loss = 0.00563679\n",
      "Iteration 837, loss = 0.00564930\n",
      "Iteration 838, loss = 0.00559770\n",
      "Iteration 839, loss = 0.00562161\n",
      "Iteration 840, loss = 0.00560808\n",
      "Iteration 841, loss = 0.00559917\n",
      "Iteration 842, loss = 0.00557999\n",
      "Iteration 843, loss = 0.00571842\n",
      "Iteration 844, loss = 0.00567307\n",
      "Iteration 845, loss = 0.00562382\n",
      "Iteration 846, loss = 0.00559615\n",
      "Iteration 847, loss = 0.00558519\n",
      "Iteration 848, loss = 0.00555266\n",
      "Iteration 849, loss = 0.00551290\n",
      "Iteration 850, loss = 0.00564294\n",
      "Iteration 851, loss = 0.00556519\n",
      "Iteration 852, loss = 0.00547676\n",
      "Iteration 853, loss = 0.00559572\n",
      "Iteration 854, loss = 0.00555049\n",
      "Iteration 855, loss = 0.00541663\n",
      "Iteration 856, loss = 0.00554405\n",
      "Iteration 857, loss = 0.00549011\n",
      "Iteration 858, loss = 0.00542096\n",
      "Iteration 859, loss = 0.00541177\n",
      "Iteration 860, loss = 0.00542252\n",
      "Iteration 861, loss = 0.00539646\n",
      "Iteration 862, loss = 0.00539194\n",
      "Iteration 863, loss = 0.00537920\n",
      "Iteration 864, loss = 0.00543119\n",
      "Iteration 865, loss = 0.00542191\n",
      "Iteration 866, loss = 0.00546353\n",
      "Iteration 867, loss = 0.00532502\n",
      "Iteration 868, loss = 0.00543033\n",
      "Iteration 869, loss = 0.00534791\n",
      "Iteration 870, loss = 0.00536207\n",
      "Iteration 871, loss = 0.00530892\n",
      "Iteration 872, loss = 0.00530555\n",
      "Iteration 873, loss = 0.00534987\n",
      "Iteration 874, loss = 0.00534782\n",
      "Iteration 875, loss = 0.00528436\n",
      "Iteration 876, loss = 0.00525964\n",
      "Iteration 877, loss = 0.00527952\n",
      "Iteration 878, loss = 0.00525834\n",
      "Iteration 879, loss = 0.00525243\n",
      "Iteration 880, loss = 0.00528216\n",
      "Iteration 881, loss = 0.00530766\n",
      "Iteration 882, loss = 0.00540709\n",
      "Iteration 883, loss = 0.00521440\n",
      "Iteration 884, loss = 0.00521656\n",
      "Iteration 885, loss = 0.00519036\n",
      "Iteration 886, loss = 0.00524000\n",
      "Iteration 887, loss = 0.00528683\n",
      "Iteration 888, loss = 0.00521007\n",
      "Iteration 889, loss = 0.00515593\n",
      "Iteration 890, loss = 0.00516708\n",
      "Iteration 891, loss = 0.00515065\n",
      "Iteration 892, loss = 0.00519039\n",
      "Iteration 893, loss = 0.00513784\n",
      "Iteration 894, loss = 0.00514002\n",
      "Iteration 895, loss = 0.00515598\n",
      "Iteration 896, loss = 0.00513780\n",
      "Iteration 897, loss = 0.00511488\n",
      "Iteration 898, loss = 0.00509767\n",
      "Iteration 899, loss = 0.00510497\n",
      "Iteration 900, loss = 0.00512881\n",
      "Iteration 901, loss = 0.00505036\n",
      "Iteration 902, loss = 0.00506242\n",
      "Iteration 903, loss = 0.00515487\n",
      "Iteration 904, loss = 0.00503856\n",
      "Iteration 905, loss = 0.00503246\n",
      "Iteration 906, loss = 0.00499987\n",
      "Iteration 907, loss = 0.00502561\n",
      "Iteration 908, loss = 0.00498938\n",
      "Iteration 909, loss = 0.00504972\n",
      "Iteration 910, loss = 0.00511449\n",
      "Iteration 911, loss = 0.00494737\n",
      "Iteration 912, loss = 0.00500455\n",
      "Iteration 913, loss = 0.00497523\n",
      "Iteration 914, loss = 0.00494151\n",
      "Iteration 915, loss = 0.00506828\n",
      "Iteration 916, loss = 0.00495788\n",
      "Iteration 917, loss = 0.00494851\n",
      "Iteration 918, loss = 0.00494222\n",
      "Iteration 919, loss = 0.00491655\n",
      "Iteration 920, loss = 0.00488106\n",
      "Iteration 921, loss = 0.00491648\n",
      "Iteration 922, loss = 0.00493325\n",
      "Iteration 923, loss = 0.00494795\n",
      "Iteration 924, loss = 0.00495819\n",
      "Iteration 925, loss = 0.00493621\n",
      "Iteration 926, loss = 0.00487447\n",
      "Iteration 927, loss = 0.00488901\n",
      "Iteration 928, loss = 0.00488046\n",
      "Iteration 929, loss = 0.00481469\n",
      "Iteration 930, loss = 0.00493226\n",
      "Iteration 931, loss = 0.00484683\n",
      "Iteration 932, loss = 0.00480125\n",
      "Iteration 933, loss = 0.00478938\n",
      "Iteration 934, loss = 0.00483283\n",
      "Iteration 935, loss = 0.00479325\n",
      "Iteration 936, loss = 0.00479378\n",
      "Iteration 937, loss = 0.00475738\n",
      "Iteration 938, loss = 0.00482505\n",
      "Iteration 939, loss = 0.00477829\n",
      "Iteration 940, loss = 0.00482349\n",
      "Iteration 941, loss = 0.00475575\n",
      "Iteration 942, loss = 0.00485684\n",
      "Iteration 943, loss = 0.00472994\n",
      "Iteration 944, loss = 0.00473402\n",
      "Iteration 945, loss = 0.00474501\n",
      "Iteration 946, loss = 0.00471586\n",
      "Iteration 947, loss = 0.00469709\n",
      "Iteration 948, loss = 0.00468647\n",
      "Iteration 949, loss = 0.00470171\n",
      "Iteration 950, loss = 0.00473689\n",
      "Iteration 951, loss = 0.00469152\n",
      "Iteration 952, loss = 0.00465993\n",
      "Iteration 953, loss = 0.00468521\n",
      "Iteration 954, loss = 0.00472473\n",
      "Iteration 955, loss = 0.00482534\n",
      "Iteration 956, loss = 0.00472132\n",
      "Iteration 957, loss = 0.00463798\n",
      "Iteration 958, loss = 0.00462061\n",
      "Iteration 959, loss = 0.00460507\n",
      "Iteration 960, loss = 0.00461709\n",
      "Iteration 961, loss = 0.00463815\n",
      "Iteration 962, loss = 0.00460788\n",
      "Iteration 963, loss = 0.00457355\n",
      "Iteration 964, loss = 0.00463470\n",
      "Iteration 965, loss = 0.00464717\n",
      "Iteration 966, loss = 0.00457393\n",
      "Iteration 967, loss = 0.00458361\n",
      "Iteration 968, loss = 0.00455239\n",
      "Iteration 969, loss = 0.00456005\n",
      "Iteration 970, loss = 0.00456205\n",
      "Iteration 971, loss = 0.00453876\n",
      "Iteration 972, loss = 0.00449805\n",
      "Iteration 973, loss = 0.00452751\n",
      "Iteration 974, loss = 0.00461498\n",
      "Iteration 975, loss = 0.00449209\n",
      "Iteration 976, loss = 0.00452125\n",
      "Iteration 977, loss = 0.00452203\n",
      "Iteration 978, loss = 0.00460178\n",
      "Iteration 979, loss = 0.00447906\n",
      "Iteration 980, loss = 0.00446437\n",
      "Iteration 981, loss = 0.00442670\n",
      "Iteration 982, loss = 0.00446792\n",
      "Iteration 983, loss = 0.00442191\n",
      "Iteration 984, loss = 0.00443764\n",
      "Iteration 985, loss = 0.00448439\n",
      "Iteration 986, loss = 0.00443900\n",
      "Iteration 987, loss = 0.00449309\n",
      "Iteration 988, loss = 0.00442347\n",
      "Iteration 989, loss = 0.00442064\n",
      "Iteration 990, loss = 0.00443332\n",
      "Iteration 991, loss = 0.00440855\n",
      "Iteration 992, loss = 0.00435942\n",
      "Iteration 993, loss = 0.00445999\n",
      "Iteration 994, loss = 0.00444332\n",
      "Iteration 995, loss = 0.00438083\n",
      "Iteration 996, loss = 0.00444087\n",
      "Iteration 997, loss = 0.00434759\n",
      "Iteration 998, loss = 0.00433554\n",
      "Iteration 999, loss = 0.00435602\n",
      "Iteration 1000, loss = 0.00435904\n"
     ]
    },
    {
     "data": {
      "text/plain": [
       "MLPClassifier(activation='relu', alpha=0.0001, batch_size='auto', beta_1=0.9,\n",
       "              beta_2=0.999, early_stopping=False, epsilon=1e-08,\n",
       "              hidden_layer_sizes=(100,), learning_rate='constant',\n",
       "              learning_rate_init=0.001, max_fun=15000, max_iter=1000,\n",
       "              momentum=0.9, n_iter_no_change=10, nesterovs_momentum=True,\n",
       "              power_t=0.5, random_state=0, shuffle=True, solver='adam',\n",
       "              tol=1e-05, validation_fraction=0.1, verbose=True,\n",
       "              warm_start=False)"
      ]
     },
     "execution_count": 74,
     "metadata": {},
     "output_type": "execute_result"
    }
   ],
   "source": [
    "# Treinando o modelo\n",
    "classificador.fit(previsores_treinamento, classe_treinamento)"
   ]
  },
  {
   "cell_type": "code",
   "execution_count": 75,
   "metadata": {},
   "outputs": [],
   "source": [
    "# testando o modelo\n",
    "previsoes = classificador.predict(previsores_teste)"
   ]
  },
  {
   "cell_type": "markdown",
   "metadata": {},
   "source": [
    "### Verificando a exatidão no modelo"
   ]
  },
  {
   "cell_type": "code",
   "execution_count": 76,
   "metadata": {},
   "outputs": [
    {
     "data": {
      "text/plain": [
       "0.996"
      ]
     },
     "execution_count": 76,
     "metadata": {},
     "output_type": "execute_result"
    }
   ],
   "source": [
    "# precisão do modelo\n",
    "precisao = accuracy_score(classe_teste, previsoes)\n",
    "precisao"
   ]
  },
  {
   "cell_type": "code",
   "execution_count": 77,
   "metadata": {},
   "outputs": [
    {
     "data": {
      "text/plain": [
       "array([[435,   1],\n",
       "       [  1,  63]], dtype=int64)"
      ]
     },
     "execution_count": 77,
     "metadata": {},
     "output_type": "execute_result"
    }
   ],
   "source": [
    "# matriz de confusão\n",
    "# diagonal principal (quantidade de acertos)\n",
    "matriz = confusion_matrix(classe_teste, previsoes)\n",
    "matriz"
   ]
  },
  {
   "cell_type": "markdown",
   "metadata": {},
   "source": [
    "## Redes Neurais com Keras"
   ]
  },
  {
   "cell_type": "markdown",
   "metadata": {},
   "source": [
    "### Construindo e treinando o modelo"
   ]
  },
  {
   "cell_type": "code",
   "execution_count": 106,
   "metadata": {},
   "outputs": [],
   "source": [
    "from keras.models import Sequential\n",
    "from keras.layers import Dense"
   ]
  },
  {
   "cell_type": "code",
   "execution_count": 107,
   "metadata": {},
   "outputs": [],
   "source": [
    "# Criando o modelo preditivo\n",
    "classificador = Sequential()"
   ]
  },
  {
   "cell_type": "code",
   "execution_count": 108,
   "metadata": {},
   "outputs": [],
   "source": [
    "# Criação das camadas ocultas e de saída\n",
    "classificador.add(Dense(units = 2, activation = 'relu', input_dim = 3))\n",
    "classificador.add(Dense(units = 2, activation = 'relu'))\n",
    "classificador.add(Dense(units = 1, activation = 'sigmoid'))"
   ]
  },
  {
   "cell_type": "code",
   "execution_count": 109,
   "metadata": {},
   "outputs": [],
   "source": [
    "# Compilar a rede neural\n",
    "classificador.compile(optimizer = 'adam', loss = 'binary_crossentropy', metrics = ['accuracy'])"
   ]
  },
  {
   "cell_type": "code",
   "execution_count": 110,
   "metadata": {},
   "outputs": [
    {
     "name": "stdout",
     "output_type": "stream",
     "text": [
      "Epoch 1/100\n",
      "1500/1500 [==============================] - 0s 134us/step - loss: 0.6844 - accuracy: 0.8540\n",
      "Epoch 2/100\n",
      "1500/1500 [==============================] - 0s 62us/step - loss: 0.5861 - accuracy: 0.8540\n",
      "Epoch 3/100\n",
      "1500/1500 [==============================] - 0s 62us/step - loss: 0.5127 - accuracy: 0.8540\n",
      "Epoch 4/100\n",
      "1500/1500 [==============================] - 0s 63us/step - loss: 0.4490 - accuracy: 0.8540\n",
      "Epoch 5/100\n",
      "1500/1500 [==============================] - 0s 62us/step - loss: 0.3978 - accuracy: 0.8540\n",
      "Epoch 6/100\n",
      "1500/1500 [==============================] - 0s 62us/step - loss: 0.3562 - accuracy: 0.8540\n",
      "Epoch 7/100\n",
      "1500/1500 [==============================] - 0s 63us/step - loss: 0.3104 - accuracy: 0.8613\n",
      "Epoch 8/100\n",
      "1500/1500 [==============================] - 0s 62us/step - loss: 0.2630 - accuracy: 0.9013\n",
      "Epoch 9/100\n",
      "1500/1500 [==============================] - 0s 62us/step - loss: 0.2231 - accuracy: 0.9353\n",
      "Epoch 10/100\n",
      "1500/1500 [==============================] - 0s 64us/step - loss: 0.1924 - accuracy: 0.9480\n",
      "Epoch 11/100\n",
      "1500/1500 [==============================] - 0s 62us/step - loss: 0.1686 - accuracy: 0.9540\n",
      "Epoch 12/100\n",
      "1500/1500 [==============================] - 0s 62us/step - loss: 0.1498 - accuracy: 0.9560\n",
      "Epoch 13/100\n",
      "1500/1500 [==============================] - 0s 62us/step - loss: 0.1345 - accuracy: 0.9627\n",
      "Epoch 14/100\n",
      "1500/1500 [==============================] - 0s 61us/step - loss: 0.1221 - accuracy: 0.9647\n",
      "Epoch 15/100\n",
      "1500/1500 [==============================] - 0s 62us/step - loss: 0.1119 - accuracy: 0.9667\n",
      "Epoch 16/100\n",
      "1500/1500 [==============================] - 0s 63us/step - loss: 0.1036 - accuracy: 0.9673\n",
      "Epoch 17/100\n",
      "1500/1500 [==============================] - 0s 64us/step - loss: 0.0961 - accuracy: 0.9693\n",
      "Epoch 18/100\n",
      "1500/1500 [==============================] - 0s 62us/step - loss: 0.0901 - accuracy: 0.9727\n",
      "Epoch 19/100\n",
      "1500/1500 [==============================] - 0s 61us/step - loss: 0.0849 - accuracy: 0.9727\n",
      "Epoch 20/100\n",
      "1500/1500 [==============================] - 0s 62us/step - loss: 0.0801 - accuracy: 0.9733\n",
      "Epoch 21/100\n",
      "1500/1500 [==============================] - 0s 62us/step - loss: 0.0760 - accuracy: 0.9767\n",
      "Epoch 22/100\n",
      "1500/1500 [==============================] - 0s 62us/step - loss: 0.0728 - accuracy: 0.9747\n",
      "Epoch 23/100\n",
      "1500/1500 [==============================] - 0s 61us/step - loss: 0.0692 - accuracy: 0.9820\n",
      "Epoch 24/100\n",
      "1500/1500 [==============================] - 0s 62us/step - loss: 0.0667 - accuracy: 0.9780\n",
      "Epoch 25/100\n",
      "1500/1500 [==============================] - 0s 62us/step - loss: 0.0640 - accuracy: 0.9807\n",
      "Epoch 26/100\n",
      "1500/1500 [==============================] - 0s 61us/step - loss: 0.0620 - accuracy: 0.9813\n",
      "Epoch 27/100\n",
      "1500/1500 [==============================] - 0s 61us/step - loss: 0.0593 - accuracy: 0.9813\n",
      "Epoch 28/100\n",
      "1500/1500 [==============================] - 0s 61us/step - loss: 0.0577 - accuracy: 0.9813\n",
      "Epoch 29/100\n",
      "1500/1500 [==============================] - 0s 62us/step - loss: 0.0556 - accuracy: 0.9820\n",
      "Epoch 30/100\n",
      "1500/1500 [==============================] - 0s 61us/step - loss: 0.0539 - accuracy: 0.9840\n",
      "Epoch 31/100\n",
      "1500/1500 [==============================] - 0s 63us/step - loss: 0.0521 - accuracy: 0.9840\n",
      "Epoch 32/100\n",
      "1500/1500 [==============================] - 0s 63us/step - loss: 0.0510 - accuracy: 0.9847\n",
      "Epoch 33/100\n",
      "1500/1500 [==============================] - 0s 64us/step - loss: 0.0495 - accuracy: 0.9853\n",
      "Epoch 34/100\n",
      "1500/1500 [==============================] - 0s 64us/step - loss: 0.0480 - accuracy: 0.9853\n",
      "Epoch 35/100\n",
      "1500/1500 [==============================] - 0s 64us/step - loss: 0.0467 - accuracy: 0.9847\n",
      "Epoch 36/100\n",
      "1500/1500 [==============================] - 0s 64us/step - loss: 0.0454 - accuracy: 0.9867\n",
      "Epoch 37/100\n",
      "1500/1500 [==============================] - 0s 64us/step - loss: 0.0443 - accuracy: 0.9880\n",
      "Epoch 38/100\n",
      "1500/1500 [==============================] - 0s 64us/step - loss: 0.0432 - accuracy: 0.9887\n",
      "Epoch 39/100\n",
      "1500/1500 [==============================] - 0s 64us/step - loss: 0.0424 - accuracy: 0.9860\n",
      "Epoch 40/100\n",
      "1500/1500 [==============================] - 0s 64us/step - loss: 0.0412 - accuracy: 0.9900\n",
      "Epoch 41/100\n",
      "1500/1500 [==============================] - 0s 64us/step - loss: 0.0402 - accuracy: 0.9907\n",
      "Epoch 42/100\n",
      "1500/1500 [==============================] - 0s 65us/step - loss: 0.0391 - accuracy: 0.9900\n",
      "Epoch 43/100\n",
      "1500/1500 [==============================] - 0s 66us/step - loss: 0.0382 - accuracy: 0.9893\n",
      "Epoch 44/100\n",
      "1500/1500 [==============================] - 0s 65us/step - loss: 0.0376 - accuracy: 0.9900\n",
      "Epoch 45/100\n",
      "1500/1500 [==============================] - 0s 65us/step - loss: 0.0363 - accuracy: 0.9913\n",
      "Epoch 46/100\n",
      "1500/1500 [==============================] - 0s 64us/step - loss: 0.0360 - accuracy: 0.9907\n",
      "Epoch 47/100\n",
      "1500/1500 [==============================] - 0s 65us/step - loss: 0.0354 - accuracy: 0.9920\n",
      "Epoch 48/100\n",
      "1500/1500 [==============================] - 0s 64us/step - loss: 0.0342 - accuracy: 0.9913\n",
      "Epoch 49/100\n",
      "1500/1500 [==============================] - 0s 64us/step - loss: 0.0336 - accuracy: 0.9920\n",
      "Epoch 50/100\n",
      "1500/1500 [==============================] - 0s 65us/step - loss: 0.0328 - accuracy: 0.9927\n",
      "Epoch 51/100\n",
      "1500/1500 [==============================] - 0s 66us/step - loss: 0.0321 - accuracy: 0.9913\n",
      "Epoch 52/100\n",
      "1500/1500 [==============================] - 0s 65us/step - loss: 0.0313 - accuracy: 0.9927\n",
      "Epoch 53/100\n",
      "1500/1500 [==============================] - 0s 65us/step - loss: 0.0313 - accuracy: 0.9927\n",
      "Epoch 54/100\n",
      "1500/1500 [==============================] - 0s 65us/step - loss: 0.0307 - accuracy: 0.9920\n",
      "Epoch 55/100\n",
      "1500/1500 [==============================] - 0s 64us/step - loss: 0.0295 - accuracy: 0.9927\n",
      "Epoch 56/100\n",
      "1500/1500 [==============================] - 0s 64us/step - loss: 0.0293 - accuracy: 0.9927\n",
      "Epoch 57/100\n",
      "1500/1500 [==============================] - 0s 64us/step - loss: 0.0288 - accuracy: 0.9933\n",
      "Epoch 58/100\n",
      "1500/1500 [==============================] - 0s 64us/step - loss: 0.0280 - accuracy: 0.9933\n",
      "Epoch 59/100\n",
      "1500/1500 [==============================] - 0s 64us/step - loss: 0.0281 - accuracy: 0.9940\n",
      "Epoch 60/100\n",
      "1500/1500 [==============================] - 0s 64us/step - loss: 0.0270 - accuracy: 0.9927\n",
      "Epoch 61/100\n",
      "1500/1500 [==============================] - 0s 65us/step - loss: 0.0269 - accuracy: 0.9927\n",
      "Epoch 62/100\n",
      "1500/1500 [==============================] - 0s 66us/step - loss: 0.0261 - accuracy: 0.9933\n",
      "Epoch 63/100\n",
      "1500/1500 [==============================] - 0s 65us/step - loss: 0.0259 - accuracy: 0.9933\n",
      "Epoch 64/100\n",
      "1500/1500 [==============================] - 0s 65us/step - loss: 0.0253 - accuracy: 0.9933\n",
      "Epoch 65/100\n",
      "1500/1500 [==============================] - 0s 64us/step - loss: 0.0251 - accuracy: 0.9927\n",
      "Epoch 66/100\n",
      "1500/1500 [==============================] - 0s 64us/step - loss: 0.0248 - accuracy: 0.9933\n",
      "Epoch 67/100\n",
      "1500/1500 [==============================] - 0s 64us/step - loss: 0.0243 - accuracy: 0.9940\n",
      "Epoch 68/100\n",
      "1500/1500 [==============================] - 0s 64us/step - loss: 0.0237 - accuracy: 0.9947\n",
      "Epoch 69/100\n",
      "1500/1500 [==============================] - 0s 64us/step - loss: 0.0237 - accuracy: 0.9940\n",
      "Epoch 70/100\n",
      "1500/1500 [==============================] - 0s 65us/step - loss: 0.0232 - accuracy: 0.9940\n",
      "Epoch 71/100\n",
      "1500/1500 [==============================] - 0s 65us/step - loss: 0.0232 - accuracy: 0.9947\n",
      "Epoch 72/100\n",
      "1500/1500 [==============================] - 0s 64us/step - loss: 0.0233 - accuracy: 0.9940\n",
      "Epoch 73/100\n",
      "1500/1500 [==============================] - 0s 65us/step - loss: 0.0222 - accuracy: 0.9947\n",
      "Epoch 74/100\n",
      "1500/1500 [==============================] - 0s 64us/step - loss: 0.0219 - accuracy: 0.9953\n",
      "Epoch 75/100\n",
      "1500/1500 [==============================] - 0s 64us/step - loss: 0.0216 - accuracy: 0.9953\n",
      "Epoch 76/100\n",
      "1500/1500 [==============================] - 0s 65us/step - loss: 0.0213 - accuracy: 0.9947\n",
      "Epoch 77/100\n",
      "1500/1500 [==============================] - 0s 65us/step - loss: 0.0210 - accuracy: 0.9953\n",
      "Epoch 78/100\n",
      "1500/1500 [==============================] - 0s 70us/step - loss: 0.0209 - accuracy: 0.9947\n",
      "Epoch 79/100\n"
     ]
    },
    {
     "name": "stdout",
     "output_type": "stream",
     "text": [
      "1500/1500 [==============================] - 0s 65us/step - loss: 0.0207 - accuracy: 0.9967\n",
      "Epoch 80/100\n",
      "1500/1500 [==============================] - 0s 64us/step - loss: 0.0202 - accuracy: 0.9947\n",
      "Epoch 81/100\n",
      "1500/1500 [==============================] - 0s 64us/step - loss: 0.0199 - accuracy: 0.9967\n",
      "Epoch 82/100\n",
      "1500/1500 [==============================] - 0s 64us/step - loss: 0.0205 - accuracy: 0.9947\n",
      "Epoch 83/100\n",
      "1500/1500 [==============================] - 0s 65us/step - loss: 0.0196 - accuracy: 0.9953\n",
      "Epoch 84/100\n",
      "1500/1500 [==============================] - 0s 65us/step - loss: 0.0195 - accuracy: 0.9960\n",
      "Epoch 85/100\n",
      "1500/1500 [==============================] - 0s 64us/step - loss: 0.0190 - accuracy: 0.9967\n",
      "Epoch 86/100\n",
      "1500/1500 [==============================] - 0s 65us/step - loss: 0.0190 - accuracy: 0.9960\n",
      "Epoch 87/100\n",
      "1500/1500 [==============================] - 0s 65us/step - loss: 0.0189 - accuracy: 0.9960\n",
      "Epoch 88/100\n",
      "1500/1500 [==============================] - 0s 66us/step - loss: 0.0188 - accuracy: 0.9953\n",
      "Epoch 89/100\n",
      "1500/1500 [==============================] - 0s 65us/step - loss: 0.0184 - accuracy: 0.9967\n",
      "Epoch 90/100\n",
      "1500/1500 [==============================] - 0s 64us/step - loss: 0.0184 - accuracy: 0.9947\n",
      "Epoch 91/100\n",
      "1500/1500 [==============================] - 0s 63us/step - loss: 0.0179 - accuracy: 0.9960\n",
      "Epoch 92/100\n",
      "1500/1500 [==============================] - 0s 63us/step - loss: 0.0176 - accuracy: 0.9967\n",
      "Epoch 93/100\n",
      "1500/1500 [==============================] - 0s 64us/step - loss: 0.0176 - accuracy: 0.9953\n",
      "Epoch 94/100\n",
      "1500/1500 [==============================] - 0s 65us/step - loss: 0.0174 - accuracy: 0.9960\n",
      "Epoch 95/100\n",
      "1500/1500 [==============================] - 0s 64us/step - loss: 0.0175 - accuracy: 0.9967\n",
      "Epoch 96/100\n",
      "1500/1500 [==============================] - 0s 64us/step - loss: 0.0170 - accuracy: 0.9967\n",
      "Epoch 97/100\n",
      "1500/1500 [==============================] - 0s 64us/step - loss: 0.0170 - accuracy: 0.9980\n",
      "Epoch 98/100\n",
      "1500/1500 [==============================] - 0s 64us/step - loss: 0.0166 - accuracy: 0.9967\n",
      "Epoch 99/100\n",
      "1500/1500 [==============================] - 0s 64us/step - loss: 0.0164 - accuracy: 0.9960\n",
      "Epoch 100/100\n",
      "1500/1500 [==============================] - 0s 66us/step - loss: 0.0166 - accuracy: 0.9967\n"
     ]
    },
    {
     "data": {
      "text/plain": [
       "<keras.callbacks.callbacks.History at 0x22d3c370088>"
      ]
     },
     "execution_count": 110,
     "metadata": {},
     "output_type": "execute_result"
    }
   ],
   "source": [
    "# Treinando o modelo\n",
    "classificador.fit(previsores_treinamento, classe_treinamento, batch_size = 10, epochs = 100)"
   ]
  },
  {
   "cell_type": "code",
   "execution_count": 111,
   "metadata": {},
   "outputs": [],
   "source": [
    "# testando o modelo\n",
    "previsoes = classificador.predict(previsores_teste)\n",
    "previsoes = (previsoes > 0.5)"
   ]
  },
  {
   "cell_type": "markdown",
   "metadata": {},
   "source": [
    "### Verificando a exatidão no modelo"
   ]
  },
  {
   "cell_type": "code",
   "execution_count": 112,
   "metadata": {},
   "outputs": [
    {
     "data": {
      "text/plain": [
       "1.0"
      ]
     },
     "execution_count": 112,
     "metadata": {},
     "output_type": "execute_result"
    }
   ],
   "source": [
    "# precisão do modelo\n",
    "precisao = accuracy_score(classe_teste, previsoes)\n",
    "precisao"
   ]
  },
  {
   "cell_type": "code",
   "execution_count": 113,
   "metadata": {},
   "outputs": [
    {
     "data": {
      "text/plain": [
       "array([[436,   0],\n",
       "       [  0,  64]], dtype=int64)"
      ]
     },
     "execution_count": 113,
     "metadata": {},
     "output_type": "execute_result"
    }
   ],
   "source": [
    "# matriz de confusão\n",
    "# diagonal principal (quantidade de acertos)\n",
    "matriz = confusion_matrix(classe_teste, previsoes)\n",
    "matriz"
   ]
  },
  {
   "cell_type": "markdown",
   "metadata": {},
   "source": [
    "<h1>Conclusão</h1>\n",
    "\n",
    "Realizando apenas um teste podemos observar que os Algoritmos de Redes Neurais Artificiais, SVM e Random Forest tiveram um maior percentual de acerto nessa base de dados. Isso não significa que esses algoritmos sejam os melhores a serem utilizados para prever se um empréstimo será pago. Para uma melhor compreensão desse resultado, deve ser realizado mais testes para comprovar o desempenho dos algoritmos."
   ]
  }
 ],
 "metadata": {
  "kernelspec": {
   "display_name": "Python 3",
   "language": "python",
   "name": "python3"
  },
  "language_info": {
   "codemirror_mode": {
    "name": "ipython",
    "version": 3
   },
   "file_extension": ".py",
   "mimetype": "text/x-python",
   "name": "python",
   "nbconvert_exporter": "python",
   "pygments_lexer": "ipython3",
   "version": "3.7.6"
  }
 },
 "nbformat": 4,
 "nbformat_minor": 4
}
